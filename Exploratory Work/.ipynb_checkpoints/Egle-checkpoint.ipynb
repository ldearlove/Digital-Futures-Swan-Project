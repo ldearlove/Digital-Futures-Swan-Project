{
 "cells": [
  {
   "cell_type": "code",
   "execution_count": 17,
   "id": "4ed2185a-cfd4-4b8d-99d5-a9ff5a009c2b",
   "metadata": {},
   "outputs": [],
   "source": [
    "import numpy as np\n",
    "import seaborn as sns\n",
    "import matplotlib.pyplot as plt\n",
    "import pandas as pd\n",
    "\n",
    "# For measuring our models performance\n",
    "from sklearn import metrics\n",
    "from time import time\n",
    "\n",
    "# Import various model stuff\n",
    "from sklearn.tree import DecisionTreeClassifier\n",
    "from sklearn.model_selection import train_test_split, cross_val_score, GridSearchCV\n",
    "from sklearn.metrics import confusion_matrix, accuracy_score\n",
    "from sklearn.ensemble import BaggingClassifier\n",
    "from sklearn.ensemble import RandomForestClassifier, ExtraTreesClassifier\n",
    "## Import the metrics we'll be using\n",
    "from sklearn import metrics\n",
    "## Import Logistic Regression from sklearn\n",
    "from sklearn.linear_model import LogisticRegression\n",
    "\n",
    "import statsmodels"
   ]
  },
  {
   "cell_type": "code",
   "execution_count": 18,
   "id": "4b7cd0a8-2daa-4efc-9eb0-5f14a435456b",
   "metadata": {},
   "outputs": [],
   "source": [
    "df = pd.read_csv('Swan_Project_Data.csv')"
   ]
  },
  {
   "cell_type": "code",
   "execution_count": 262,
   "id": "9b87ae85-4dff-41c5-90b8-bdefede2efd3",
   "metadata": {},
   "outputs": [],
   "source": [
    "pd.set_option('display.max_columns', None)"
   ]
  },
  {
   "cell_type": "code",
   "execution_count": 39,
   "id": "f31b8ab0-5b2d-4513-8395-94d962eee578",
   "metadata": {},
   "outputs": [],
   "source": [
    "pd.set_option('display.max_rows', None)"
   ]
  },
  {
   "cell_type": "code",
   "execution_count": 7,
   "id": "731bfa92-2122-43e8-8978-186109f63701",
   "metadata": {},
   "outputs": [
    {
     "data": {
      "text/plain": [
       "(7043, 31)"
      ]
     },
     "execution_count": 7,
     "metadata": {},
     "output_type": "execute_result"
    }
   ],
   "source": [
    "df.shape"
   ]
  },
  {
   "cell_type": "code",
   "execution_count": 8,
   "id": "096a09c2-6c31-4dfe-8adb-fe5d0feb06db",
   "metadata": {},
   "outputs": [
    {
     "data": {
      "text/plain": [
       "7043"
      ]
     },
     "execution_count": 8,
     "metadata": {},
     "output_type": "execute_result"
    }
   ],
   "source": [
    "df.CustomerID.nunique()"
   ]
  },
  {
   "cell_type": "code",
   "execution_count": 9,
   "id": "89efa394-8232-404b-be00-eb15929d7910",
   "metadata": {},
   "outputs": [
    {
     "data": {
      "text/plain": [
       "array(['United States'], dtype=object)"
      ]
     },
     "execution_count": 9,
     "metadata": {},
     "output_type": "execute_result"
    }
   ],
   "source": [
    "df.Country.unique()"
   ]
  },
  {
   "cell_type": "code",
   "execution_count": 10,
   "id": "d0c7b5c0-8a0c-48ab-ac14-6d79c4f96bb0",
   "metadata": {},
   "outputs": [
    {
     "data": {
      "text/plain": [
       "array(['California'], dtype=object)"
      ]
     },
     "execution_count": 10,
     "metadata": {},
     "output_type": "execute_result"
    }
   ],
   "source": [
    "df.State.unique()"
   ]
  },
  {
   "cell_type": "code",
   "execution_count": 11,
   "id": "396a0b17-f312-48fc-9ea6-acd5d009eac1",
   "metadata": {},
   "outputs": [
    {
     "data": {
      "text/plain": [
       "array(['Los Angeles', 'Beverly Hills', 'Huntington Park', ..., 'Standish',\n",
       "       'Tulelake', 'Olympic Valley'], dtype=object)"
      ]
     },
     "execution_count": 11,
     "metadata": {},
     "output_type": "execute_result"
    }
   ],
   "source": [
    "df.City.unique()"
   ]
  },
  {
   "cell_type": "code",
   "execution_count": 12,
   "id": "b4145d2e-7780-4ccf-bc47-8a8084511a96",
   "metadata": {},
   "outputs": [
    {
     "data": {
      "text/plain": [
       "1129"
      ]
     },
     "execution_count": 12,
     "metadata": {},
     "output_type": "execute_result"
    }
   ],
   "source": [
    "df.City.nunique()"
   ]
  },
  {
   "cell_type": "code",
   "execution_count": null,
   "id": "486e0cbe-cdb5-4b62-bee2-34df4c9cdb2f",
   "metadata": {},
   "outputs": [],
   "source": [
    "#Lat long need to be checked"
   ]
  },
  {
   "cell_type": "code",
   "execution_count": 14,
   "id": "0f8d3d69-c64c-4d36-8963-bf8b983061f6",
   "metadata": {},
   "outputs": [
    {
     "data": {
      "text/html": [
       "<div>\n",
       "<style scoped>\n",
       "    .dataframe tbody tr th:only-of-type {\n",
       "        vertical-align: middle;\n",
       "    }\n",
       "\n",
       "    .dataframe tbody tr th {\n",
       "        vertical-align: top;\n",
       "    }\n",
       "\n",
       "    .dataframe thead th {\n",
       "        text-align: right;\n",
       "    }\n",
       "</style>\n",
       "<table border=\"1\" class=\"dataframe\">\n",
       "  <thead>\n",
       "    <tr style=\"text-align: right;\">\n",
       "      <th></th>\n",
       "      <th>CustomerID</th>\n",
       "      <th>Count</th>\n",
       "      <th>Country</th>\n",
       "      <th>State</th>\n",
       "      <th>City</th>\n",
       "      <th>Zip Code</th>\n",
       "      <th>Lat Long</th>\n",
       "      <th>Latitude</th>\n",
       "      <th>Longitude</th>\n",
       "      <th>Gender</th>\n",
       "      <th>Senior Citizen</th>\n",
       "      <th>Partner</th>\n",
       "      <th>Dependents</th>\n",
       "      <th>Tenure Months</th>\n",
       "      <th>Phone Service</th>\n",
       "      <th>Multiple Lines</th>\n",
       "      <th>Internet Service</th>\n",
       "      <th>Online Security</th>\n",
       "      <th>Online Backup</th>\n",
       "      <th>Device Protection</th>\n",
       "      <th>Tech Support</th>\n",
       "      <th>Streaming TV</th>\n",
       "      <th>Streaming Movies</th>\n",
       "      <th>Contract</th>\n",
       "      <th>Paperless Billing</th>\n",
       "      <th>Payment Method</th>\n",
       "      <th>Monthly Charges</th>\n",
       "      <th>Total Charges</th>\n",
       "      <th>Churn Label</th>\n",
       "      <th>Churn Value</th>\n",
       "      <th>Churn Reason</th>\n",
       "    </tr>\n",
       "  </thead>\n",
       "  <tbody>\n",
       "    <tr>\n",
       "      <th>0</th>\n",
       "      <td>3668-QPYBK</td>\n",
       "      <td>1</td>\n",
       "      <td>United States</td>\n",
       "      <td>California</td>\n",
       "      <td>Los Angeles</td>\n",
       "      <td>90003</td>\n",
       "      <td>33.964131, -118.272783</td>\n",
       "      <td>33.964131</td>\n",
       "      <td>-118.272783</td>\n",
       "      <td>Male</td>\n",
       "      <td>No</td>\n",
       "      <td>No</td>\n",
       "      <td>No</td>\n",
       "      <td>2</td>\n",
       "      <td>Yes</td>\n",
       "      <td>No</td>\n",
       "      <td>DSL</td>\n",
       "      <td>Yes</td>\n",
       "      <td>Yes</td>\n",
       "      <td>No</td>\n",
       "      <td>No</td>\n",
       "      <td>No</td>\n",
       "      <td>No</td>\n",
       "      <td>Month-to-month</td>\n",
       "      <td>Yes</td>\n",
       "      <td>Mailed check</td>\n",
       "      <td>53.85</td>\n",
       "      <td>108.15</td>\n",
       "      <td>Yes</td>\n",
       "      <td>1</td>\n",
       "      <td>Competitor made better offer</td>\n",
       "    </tr>\n",
       "    <tr>\n",
       "      <th>1</th>\n",
       "      <td>9237-HQITU</td>\n",
       "      <td>1</td>\n",
       "      <td>United States</td>\n",
       "      <td>California</td>\n",
       "      <td>Los Angeles</td>\n",
       "      <td>90005</td>\n",
       "      <td>34.059281, -118.30742</td>\n",
       "      <td>34.059281</td>\n",
       "      <td>-118.307420</td>\n",
       "      <td>Female</td>\n",
       "      <td>No</td>\n",
       "      <td>No</td>\n",
       "      <td>Yes</td>\n",
       "      <td>2</td>\n",
       "      <td>Yes</td>\n",
       "      <td>No</td>\n",
       "      <td>Fiber optic</td>\n",
       "      <td>No</td>\n",
       "      <td>No</td>\n",
       "      <td>No</td>\n",
       "      <td>No</td>\n",
       "      <td>No</td>\n",
       "      <td>No</td>\n",
       "      <td>Month-to-month</td>\n",
       "      <td>Yes</td>\n",
       "      <td>Electronic check</td>\n",
       "      <td>70.70</td>\n",
       "      <td>151.65</td>\n",
       "      <td>Yes</td>\n",
       "      <td>1</td>\n",
       "      <td>Moved</td>\n",
       "    </tr>\n",
       "    <tr>\n",
       "      <th>2</th>\n",
       "      <td>9305-CDSKC</td>\n",
       "      <td>1</td>\n",
       "      <td>United States</td>\n",
       "      <td>California</td>\n",
       "      <td>Los Angeles</td>\n",
       "      <td>90006</td>\n",
       "      <td>34.048013, -118.293953</td>\n",
       "      <td>34.048013</td>\n",
       "      <td>-118.293953</td>\n",
       "      <td>Female</td>\n",
       "      <td>No</td>\n",
       "      <td>No</td>\n",
       "      <td>Yes</td>\n",
       "      <td>8</td>\n",
       "      <td>Yes</td>\n",
       "      <td>Yes</td>\n",
       "      <td>Fiber optic</td>\n",
       "      <td>No</td>\n",
       "      <td>No</td>\n",
       "      <td>Yes</td>\n",
       "      <td>No</td>\n",
       "      <td>Yes</td>\n",
       "      <td>Yes</td>\n",
       "      <td>Month-to-month</td>\n",
       "      <td>Yes</td>\n",
       "      <td>Electronic check</td>\n",
       "      <td>99.65</td>\n",
       "      <td>820.5</td>\n",
       "      <td>Yes</td>\n",
       "      <td>1</td>\n",
       "      <td>Moved</td>\n",
       "    </tr>\n",
       "    <tr>\n",
       "      <th>3</th>\n",
       "      <td>7892-POOKP</td>\n",
       "      <td>1</td>\n",
       "      <td>United States</td>\n",
       "      <td>California</td>\n",
       "      <td>Los Angeles</td>\n",
       "      <td>90010</td>\n",
       "      <td>34.062125, -118.315709</td>\n",
       "      <td>34.062125</td>\n",
       "      <td>-118.315709</td>\n",
       "      <td>Female</td>\n",
       "      <td>No</td>\n",
       "      <td>Yes</td>\n",
       "      <td>Yes</td>\n",
       "      <td>28</td>\n",
       "      <td>Yes</td>\n",
       "      <td>Yes</td>\n",
       "      <td>Fiber optic</td>\n",
       "      <td>No</td>\n",
       "      <td>No</td>\n",
       "      <td>Yes</td>\n",
       "      <td>Yes</td>\n",
       "      <td>Yes</td>\n",
       "      <td>Yes</td>\n",
       "      <td>Month-to-month</td>\n",
       "      <td>Yes</td>\n",
       "      <td>Electronic check</td>\n",
       "      <td>104.80</td>\n",
       "      <td>3046.05</td>\n",
       "      <td>Yes</td>\n",
       "      <td>1</td>\n",
       "      <td>Moved</td>\n",
       "    </tr>\n",
       "    <tr>\n",
       "      <th>4</th>\n",
       "      <td>0280-XJGEX</td>\n",
       "      <td>1</td>\n",
       "      <td>United States</td>\n",
       "      <td>California</td>\n",
       "      <td>Los Angeles</td>\n",
       "      <td>90015</td>\n",
       "      <td>34.039224, -118.266293</td>\n",
       "      <td>34.039224</td>\n",
       "      <td>-118.266293</td>\n",
       "      <td>Male</td>\n",
       "      <td>No</td>\n",
       "      <td>No</td>\n",
       "      <td>Yes</td>\n",
       "      <td>49</td>\n",
       "      <td>Yes</td>\n",
       "      <td>Yes</td>\n",
       "      <td>Fiber optic</td>\n",
       "      <td>No</td>\n",
       "      <td>Yes</td>\n",
       "      <td>Yes</td>\n",
       "      <td>No</td>\n",
       "      <td>Yes</td>\n",
       "      <td>Yes</td>\n",
       "      <td>Month-to-month</td>\n",
       "      <td>Yes</td>\n",
       "      <td>Bank transfer (automatic)</td>\n",
       "      <td>103.70</td>\n",
       "      <td>5036.3</td>\n",
       "      <td>Yes</td>\n",
       "      <td>1</td>\n",
       "      <td>Competitor had better devices</td>\n",
       "    </tr>\n",
       "  </tbody>\n",
       "</table>\n",
       "</div>"
      ],
      "text/plain": [
       "   CustomerID  Count        Country       State         City  Zip Code  \\\n",
       "0  3668-QPYBK      1  United States  California  Los Angeles     90003   \n",
       "1  9237-HQITU      1  United States  California  Los Angeles     90005   \n",
       "2  9305-CDSKC      1  United States  California  Los Angeles     90006   \n",
       "3  7892-POOKP      1  United States  California  Los Angeles     90010   \n",
       "4  0280-XJGEX      1  United States  California  Los Angeles     90015   \n",
       "\n",
       "                 Lat Long   Latitude   Longitude  Gender Senior Citizen  \\\n",
       "0  33.964131, -118.272783  33.964131 -118.272783    Male             No   \n",
       "1   34.059281, -118.30742  34.059281 -118.307420  Female             No   \n",
       "2  34.048013, -118.293953  34.048013 -118.293953  Female             No   \n",
       "3  34.062125, -118.315709  34.062125 -118.315709  Female             No   \n",
       "4  34.039224, -118.266293  34.039224 -118.266293    Male             No   \n",
       "\n",
       "  Partner Dependents  Tenure Months Phone Service Multiple Lines  \\\n",
       "0      No         No              2           Yes             No   \n",
       "1      No        Yes              2           Yes             No   \n",
       "2      No        Yes              8           Yes            Yes   \n",
       "3     Yes        Yes             28           Yes            Yes   \n",
       "4      No        Yes             49           Yes            Yes   \n",
       "\n",
       "  Internet Service Online Security Online Backup Device Protection  \\\n",
       "0              DSL             Yes           Yes                No   \n",
       "1      Fiber optic              No            No                No   \n",
       "2      Fiber optic              No            No               Yes   \n",
       "3      Fiber optic              No            No               Yes   \n",
       "4      Fiber optic              No           Yes               Yes   \n",
       "\n",
       "  Tech Support Streaming TV Streaming Movies        Contract  \\\n",
       "0           No           No               No  Month-to-month   \n",
       "1           No           No               No  Month-to-month   \n",
       "2           No          Yes              Yes  Month-to-month   \n",
       "3          Yes          Yes              Yes  Month-to-month   \n",
       "4           No          Yes              Yes  Month-to-month   \n",
       "\n",
       "  Paperless Billing             Payment Method  Monthly Charges Total Charges  \\\n",
       "0               Yes               Mailed check            53.85        108.15   \n",
       "1               Yes           Electronic check            70.70        151.65   \n",
       "2               Yes           Electronic check            99.65         820.5   \n",
       "3               Yes           Electronic check           104.80       3046.05   \n",
       "4               Yes  Bank transfer (automatic)           103.70        5036.3   \n",
       "\n",
       "  Churn Label  Churn Value                   Churn Reason  \n",
       "0         Yes            1   Competitor made better offer  \n",
       "1         Yes            1                          Moved  \n",
       "2         Yes            1                          Moved  \n",
       "3         Yes            1                          Moved  \n",
       "4         Yes            1  Competitor had better devices  "
      ]
     },
     "execution_count": 14,
     "metadata": {},
     "output_type": "execute_result"
    }
   ],
   "source": [
    "df.head()"
   ]
  },
  {
   "cell_type": "code",
   "execution_count": 80,
   "id": "6881f200-483b-4dc7-9295-eb479b66fdce",
   "metadata": {},
   "outputs": [
    {
     "data": {
      "text/html": [
       "<div>\n",
       "<style scoped>\n",
       "    .dataframe tbody tr th:only-of-type {\n",
       "        vertical-align: middle;\n",
       "    }\n",
       "\n",
       "    .dataframe tbody tr th {\n",
       "        vertical-align: top;\n",
       "    }\n",
       "\n",
       "    .dataframe thead th {\n",
       "        text-align: right;\n",
       "    }\n",
       "</style>\n",
       "<table border=\"1\" class=\"dataframe\">\n",
       "  <thead>\n",
       "    <tr style=\"text-align: right;\">\n",
       "      <th></th>\n",
       "      <th>null</th>\n",
       "      <th>percent</th>\n",
       "    </tr>\n",
       "  </thead>\n",
       "  <tbody>\n",
       "    <tr>\n",
       "      <th>Churn Reason</th>\n",
       "      <td>5174</td>\n",
       "      <td>73.463</td>\n",
       "    </tr>\n",
       "    <tr>\n",
       "      <th>Internet Service</th>\n",
       "      <td>0</td>\n",
       "      <td>0.000</td>\n",
       "    </tr>\n",
       "    <tr>\n",
       "      <th>Churn Value</th>\n",
       "      <td>0</td>\n",
       "      <td>0.000</td>\n",
       "    </tr>\n",
       "    <tr>\n",
       "      <th>Churn Label</th>\n",
       "      <td>0</td>\n",
       "      <td>0.000</td>\n",
       "    </tr>\n",
       "    <tr>\n",
       "      <th>Total Charges</th>\n",
       "      <td>0</td>\n",
       "      <td>0.000</td>\n",
       "    </tr>\n",
       "    <tr>\n",
       "      <th>Monthly Charges</th>\n",
       "      <td>0</td>\n",
       "      <td>0.000</td>\n",
       "    </tr>\n",
       "    <tr>\n",
       "      <th>Payment Method</th>\n",
       "      <td>0</td>\n",
       "      <td>0.000</td>\n",
       "    </tr>\n",
       "    <tr>\n",
       "      <th>Paperless Billing</th>\n",
       "      <td>0</td>\n",
       "      <td>0.000</td>\n",
       "    </tr>\n",
       "    <tr>\n",
       "      <th>Contract</th>\n",
       "      <td>0</td>\n",
       "      <td>0.000</td>\n",
       "    </tr>\n",
       "    <tr>\n",
       "      <th>Streaming Movies</th>\n",
       "      <td>0</td>\n",
       "      <td>0.000</td>\n",
       "    </tr>\n",
       "    <tr>\n",
       "      <th>Streaming TV</th>\n",
       "      <td>0</td>\n",
       "      <td>0.000</td>\n",
       "    </tr>\n",
       "    <tr>\n",
       "      <th>Tech Support</th>\n",
       "      <td>0</td>\n",
       "      <td>0.000</td>\n",
       "    </tr>\n",
       "    <tr>\n",
       "      <th>Device Protection</th>\n",
       "      <td>0</td>\n",
       "      <td>0.000</td>\n",
       "    </tr>\n",
       "    <tr>\n",
       "      <th>Online Backup</th>\n",
       "      <td>0</td>\n",
       "      <td>0.000</td>\n",
       "    </tr>\n",
       "    <tr>\n",
       "      <th>Online Security</th>\n",
       "      <td>0</td>\n",
       "      <td>0.000</td>\n",
       "    </tr>\n",
       "    <tr>\n",
       "      <th>CustomerID</th>\n",
       "      <td>0</td>\n",
       "      <td>0.000</td>\n",
       "    </tr>\n",
       "    <tr>\n",
       "      <th>Count</th>\n",
       "      <td>0</td>\n",
       "      <td>0.000</td>\n",
       "    </tr>\n",
       "    <tr>\n",
       "      <th>Phone Service</th>\n",
       "      <td>0</td>\n",
       "      <td>0.000</td>\n",
       "    </tr>\n",
       "    <tr>\n",
       "      <th>Tenure Months</th>\n",
       "      <td>0</td>\n",
       "      <td>0.000</td>\n",
       "    </tr>\n",
       "    <tr>\n",
       "      <th>Dependents</th>\n",
       "      <td>0</td>\n",
       "      <td>0.000</td>\n",
       "    </tr>\n",
       "    <tr>\n",
       "      <th>Partner</th>\n",
       "      <td>0</td>\n",
       "      <td>0.000</td>\n",
       "    </tr>\n",
       "    <tr>\n",
       "      <th>Senior Citizen</th>\n",
       "      <td>0</td>\n",
       "      <td>0.000</td>\n",
       "    </tr>\n",
       "    <tr>\n",
       "      <th>Gender</th>\n",
       "      <td>0</td>\n",
       "      <td>0.000</td>\n",
       "    </tr>\n",
       "    <tr>\n",
       "      <th>Longitude</th>\n",
       "      <td>0</td>\n",
       "      <td>0.000</td>\n",
       "    </tr>\n",
       "    <tr>\n",
       "      <th>Latitude</th>\n",
       "      <td>0</td>\n",
       "      <td>0.000</td>\n",
       "    </tr>\n",
       "    <tr>\n",
       "      <th>Lat Long</th>\n",
       "      <td>0</td>\n",
       "      <td>0.000</td>\n",
       "    </tr>\n",
       "    <tr>\n",
       "      <th>Zip Code</th>\n",
       "      <td>0</td>\n",
       "      <td>0.000</td>\n",
       "    </tr>\n",
       "    <tr>\n",
       "      <th>City</th>\n",
       "      <td>0</td>\n",
       "      <td>0.000</td>\n",
       "    </tr>\n",
       "    <tr>\n",
       "      <th>State</th>\n",
       "      <td>0</td>\n",
       "      <td>0.000</td>\n",
       "    </tr>\n",
       "    <tr>\n",
       "      <th>Country</th>\n",
       "      <td>0</td>\n",
       "      <td>0.000</td>\n",
       "    </tr>\n",
       "    <tr>\n",
       "      <th>Multiple Lines</th>\n",
       "      <td>0</td>\n",
       "      <td>0.000</td>\n",
       "    </tr>\n",
       "  </tbody>\n",
       "</table>\n",
       "</div>"
      ],
      "text/plain": [
       "                   null  percent\n",
       "Churn Reason       5174   73.463\n",
       "Internet Service      0    0.000\n",
       "Churn Value           0    0.000\n",
       "Churn Label           0    0.000\n",
       "Total Charges         0    0.000\n",
       "Monthly Charges       0    0.000\n",
       "Payment Method        0    0.000\n",
       "Paperless Billing     0    0.000\n",
       "Contract              0    0.000\n",
       "Streaming Movies      0    0.000\n",
       "Streaming TV          0    0.000\n",
       "Tech Support          0    0.000\n",
       "Device Protection     0    0.000\n",
       "Online Backup         0    0.000\n",
       "Online Security       0    0.000\n",
       "CustomerID            0    0.000\n",
       "Count                 0    0.000\n",
       "Phone Service         0    0.000\n",
       "Tenure Months         0    0.000\n",
       "Dependents            0    0.000\n",
       "Partner               0    0.000\n",
       "Senior Citizen        0    0.000\n",
       "Gender                0    0.000\n",
       "Longitude             0    0.000\n",
       "Latitude              0    0.000\n",
       "Lat Long              0    0.000\n",
       "Zip Code              0    0.000\n",
       "City                  0    0.000\n",
       "State                 0    0.000\n",
       "Country               0    0.000\n",
       "Multiple Lines        0    0.000"
      ]
     },
     "execution_count": 80,
     "metadata": {},
     "output_type": "execute_result"
    }
   ],
   "source": [
    "#Handling missing values\n",
    "def null_vals(dataframe):\n",
    "#Function to show both number of nulls and the percentage of nulls in the whole column\n",
    "    null_vals = dataframe.isnull().sum() # How many nulls in each column\n",
    "    total_cnt = len(dataframe) # Total entries in the dataframe\n",
    "    null_vals = pd.DataFrame(null_vals,columns=['null']) # Put the number of nulls in a single dataframe\n",
    "    null_vals['percent'] = round((null_vals['null']/total_cnt)*100,3) # Round how many nulls are there, as %, of the df\n",
    "    \n",
    "    return null_vals.sort_values('percent', ascending=False) #Return the number and percentage of missing values, order by percentage descending\n",
    "null_vals(df) #Display the table"
   ]
  },
  {
   "cell_type": "code",
   "execution_count": 19,
   "id": "77198f76-43b1-4860-afaa-5b80080ddeb6",
   "metadata": {},
   "outputs": [
    {
     "data": {
      "text/plain": [
       "1    1869\n",
       "Name: Churn Value, dtype: int64"
      ]
     },
     "execution_count": 19,
     "metadata": {},
     "output_type": "execute_result"
    }
   ],
   "source": [
    "df['Churn Value'][df['Churn Label'] == 'Yes'].value_counts()"
   ]
  },
  {
   "cell_type": "code",
   "execution_count": 20,
   "id": "410081c2-c336-4b09-b8d2-428a3f39b3a4",
   "metadata": {},
   "outputs": [
    {
     "data": {
      "text/plain": [
       "0    5174\n",
       "Name: Churn Value, dtype: int64"
      ]
     },
     "execution_count": 20,
     "metadata": {},
     "output_type": "execute_result"
    }
   ],
   "source": [
    "df['Churn Value'][df['Churn Label'] == 'No'].value_counts()"
   ]
  },
  {
   "cell_type": "code",
   "execution_count": 23,
   "id": "ab128a83-184e-4898-a3c7-adb76ec56ec7",
   "metadata": {},
   "outputs": [
    {
     "data": {
      "text/plain": [
       "Attitude of support person                   192\n",
       "Competitor offered higher download speeds    189\n",
       "Competitor offered more data                 162\n",
       "Don't know                                   154\n",
       "Competitor made better offer                 140\n",
       "Attitude of service provider                 135\n",
       "Competitor had better devices                130\n",
       "Network reliability                          103\n",
       "Product dissatisfaction                      102\n",
       "Price too high                                98\n",
       "Service dissatisfaction                       89\n",
       "Lack of self-service on Website               88\n",
       "Extra data charges                            57\n",
       "Moved                                         53\n",
       "Limited range of services                     44\n",
       "Long distance charges                         44\n",
       "Lack of affordable download/upload speed      44\n",
       "Poor expertise of phone support               20\n",
       "Poor expertise of online support              19\n",
       "Deceased                                       6\n",
       "Name: Churn Reason, dtype: int64"
      ]
     },
     "execution_count": 23,
     "metadata": {},
     "output_type": "execute_result"
    }
   ],
   "source": [
    "df['Churn Reason'].value_counts()"
   ]
  },
  {
   "cell_type": "code",
   "execution_count": 25,
   "id": "2a66e9e1-750a-4222-ad95-8d9258b20a6b",
   "metadata": {},
   "outputs": [
    {
     "data": {
      "text/plain": [
       "CustomerID            object\n",
       "Count                  int64\n",
       "Country               object\n",
       "State                 object\n",
       "City                  object\n",
       "Zip Code               int64\n",
       "Lat Long              object\n",
       "Latitude             float64\n",
       "Longitude            float64\n",
       "Gender                object\n",
       "Senior Citizen        object\n",
       "Partner               object\n",
       "Dependents            object\n",
       "Tenure Months          int64\n",
       "Phone Service         object\n",
       "Multiple Lines        object\n",
       "Internet Service      object\n",
       "Online Security       object\n",
       "Online Backup         object\n",
       "Device Protection     object\n",
       "Tech Support          object\n",
       "Streaming TV          object\n",
       "Streaming Movies      object\n",
       "Contract              object\n",
       "Paperless Billing     object\n",
       "Payment Method        object\n",
       "Monthly Charges      float64\n",
       "Total Charges         object\n",
       "Churn Label           object\n",
       "Churn Value            int64\n",
       "Churn Reason          object\n",
       "dtype: object"
      ]
     },
     "execution_count": 25,
     "metadata": {},
     "output_type": "execute_result"
    }
   ],
   "source": [
    "df.dtypes"
   ]
  },
  {
   "cell_type": "code",
   "execution_count": 33,
   "id": "dc2e32b3-7c45-47f9-b3f4-edc1be705271",
   "metadata": {},
   "outputs": [],
   "source": [
    "import re"
   ]
  },
  {
   "cell_type": "code",
   "execution_count": 81,
   "id": "6f357686-b6d7-46d0-8cea-9164004bb216",
   "metadata": {},
   "outputs": [],
   "source": [
    "# # Checking the format of Total charges because we can't cast float dtype\n",
    "# df['Total Charges'].strip().astype(float)\n",
    "\n",
    "# #str.findall('[^0-9A-Za-z]+')"
   ]
  },
  {
   "cell_type": "code",
   "execution_count": 4,
   "id": "9919966a-21d9-4b58-96e5-f69ce1d89a1e",
   "metadata": {},
   "outputs": [
    {
     "data": {
      "text/plain": [
       "Int64Index([2234, 2438, 2568, 2667, 2856, 4331, 4687, 5104, 5719, 6772, 6840], dtype='int64')"
      ]
     },
     "execution_count": 4,
     "metadata": {},
     "output_type": "execute_result"
    }
   ],
   "source": [
    "# Indexes, where total charge is blank: 2234, 2438, 2568, 2667, 2856, 4331, 4687, 5104, 5719, 6772, 6840\n",
    "\n",
    "empty_string_indices = df[df['Total Charges'] == ' '].index\n",
    "empty_string_indices"
   ]
  },
  {
   "cell_type": "code",
   "execution_count": 15,
   "id": "e7b5ae4f-ad6d-4803-80c2-987a26bbf460",
   "metadata": {},
   "outputs": [],
   "source": []
  },
  {
   "cell_type": "code",
   "execution_count": 78,
   "id": "78be7af5-5312-48d2-8ef5-fab378d154f3",
   "metadata": {},
   "outputs": [
    {
     "data": {
      "text/plain": [
       "0"
      ]
     },
     "execution_count": 78,
     "metadata": {},
     "output_type": "execute_result"
    }
   ],
   "source": [
    "df['Total Charges'].isnull().sum()"
   ]
  },
  {
   "cell_type": "code",
   "execution_count": 19,
   "id": "1c38cacd-3f2f-4561-8973-f8acc7b96771",
   "metadata": {},
   "outputs": [],
   "source": [
    "#Changing total chares to numeric\n",
    "df['Total Charges'] = pd.to_numeric(df['Total Charges'], errors='coerce')"
   ]
  },
  {
   "cell_type": "code",
   "execution_count": 20,
   "id": "45911bfa-aab6-4102-9bd6-e1a28b065ce1",
   "metadata": {},
   "outputs": [],
   "source": [
    "#Filling missing total charge values with 0\n",
    "df['Total Charges'] = df['Total Charges'].fillna(value = 0)"
   ]
  },
  {
   "cell_type": "code",
   "execution_count": 21,
   "id": "56c2648d-42e6-40c2-8122-b762bcd2c669",
   "metadata": {},
   "outputs": [],
   "source": [
    "df['Total Charges'] = df['Total Charges'].astype(float)"
   ]
  },
  {
   "cell_type": "code",
   "execution_count": null,
   "id": "07fb24ce-3b8c-47eb-8a0a-70ce8b30e63d",
   "metadata": {},
   "outputs": [],
   "source": [
    "#Sanity check failed\n",
    "df['Total Charges'] == df['Tenure Months'] * df['Monthly Charges']\n",
    "#Ask Alex what to do with missing values of Total Charges\n",
    "#We could create a new column for additional charges: total - (months * monthly charges)"
   ]
  },
  {
   "cell_type": "code",
   "execution_count": 79,
   "id": "32b77024-2572-4d37-9de8-204a9b1f35fc",
   "metadata": {},
   "outputs": [
    {
     "data": {
      "text/html": [
       "<div>\n",
       "<style scoped>\n",
       "    .dataframe tbody tr th:only-of-type {\n",
       "        vertical-align: middle;\n",
       "    }\n",
       "\n",
       "    .dataframe tbody tr th {\n",
       "        vertical-align: top;\n",
       "    }\n",
       "\n",
       "    .dataframe thead th {\n",
       "        text-align: right;\n",
       "    }\n",
       "</style>\n",
       "<table border=\"1\" class=\"dataframe\">\n",
       "  <thead>\n",
       "    <tr style=\"text-align: right;\">\n",
       "      <th></th>\n",
       "      <th>Count</th>\n",
       "      <th>Zip Code</th>\n",
       "      <th>Latitude</th>\n",
       "      <th>Longitude</th>\n",
       "      <th>Tenure Months</th>\n",
       "      <th>Monthly Charges</th>\n",
       "      <th>Total Charges</th>\n",
       "      <th>Churn Value</th>\n",
       "    </tr>\n",
       "  </thead>\n",
       "  <tbody>\n",
       "    <tr>\n",
       "      <th>count</th>\n",
       "      <td>7043.0</td>\n",
       "      <td>7043.000000</td>\n",
       "      <td>7043.000000</td>\n",
       "      <td>7043.000000</td>\n",
       "      <td>7043.000000</td>\n",
       "      <td>7043.000000</td>\n",
       "      <td>7043.000000</td>\n",
       "      <td>7043.000000</td>\n",
       "    </tr>\n",
       "    <tr>\n",
       "      <th>mean</th>\n",
       "      <td>1.0</td>\n",
       "      <td>93521.964646</td>\n",
       "      <td>36.282441</td>\n",
       "      <td>-119.798880</td>\n",
       "      <td>32.371149</td>\n",
       "      <td>64.761692</td>\n",
       "      <td>2279.734304</td>\n",
       "      <td>0.265370</td>\n",
       "    </tr>\n",
       "    <tr>\n",
       "      <th>std</th>\n",
       "      <td>0.0</td>\n",
       "      <td>1865.794555</td>\n",
       "      <td>2.455723</td>\n",
       "      <td>2.157889</td>\n",
       "      <td>24.559481</td>\n",
       "      <td>30.090047</td>\n",
       "      <td>2266.794470</td>\n",
       "      <td>0.441561</td>\n",
       "    </tr>\n",
       "    <tr>\n",
       "      <th>min</th>\n",
       "      <td>1.0</td>\n",
       "      <td>90001.000000</td>\n",
       "      <td>32.555828</td>\n",
       "      <td>-124.301372</td>\n",
       "      <td>0.000000</td>\n",
       "      <td>18.250000</td>\n",
       "      <td>0.000000</td>\n",
       "      <td>0.000000</td>\n",
       "    </tr>\n",
       "    <tr>\n",
       "      <th>25%</th>\n",
       "      <td>1.0</td>\n",
       "      <td>92102.000000</td>\n",
       "      <td>34.030915</td>\n",
       "      <td>-121.815412</td>\n",
       "      <td>9.000000</td>\n",
       "      <td>35.500000</td>\n",
       "      <td>398.550000</td>\n",
       "      <td>0.000000</td>\n",
       "    </tr>\n",
       "    <tr>\n",
       "      <th>50%</th>\n",
       "      <td>1.0</td>\n",
       "      <td>93552.000000</td>\n",
       "      <td>36.391777</td>\n",
       "      <td>-119.730885</td>\n",
       "      <td>29.000000</td>\n",
       "      <td>70.350000</td>\n",
       "      <td>1394.550000</td>\n",
       "      <td>0.000000</td>\n",
       "    </tr>\n",
       "    <tr>\n",
       "      <th>75%</th>\n",
       "      <td>1.0</td>\n",
       "      <td>95351.000000</td>\n",
       "      <td>38.224869</td>\n",
       "      <td>-118.043237</td>\n",
       "      <td>55.000000</td>\n",
       "      <td>89.850000</td>\n",
       "      <td>3786.600000</td>\n",
       "      <td>1.000000</td>\n",
       "    </tr>\n",
       "    <tr>\n",
       "      <th>max</th>\n",
       "      <td>1.0</td>\n",
       "      <td>96161.000000</td>\n",
       "      <td>41.962127</td>\n",
       "      <td>-114.192901</td>\n",
       "      <td>72.000000</td>\n",
       "      <td>118.750000</td>\n",
       "      <td>8684.800000</td>\n",
       "      <td>1.000000</td>\n",
       "    </tr>\n",
       "  </tbody>\n",
       "</table>\n",
       "</div>"
      ],
      "text/plain": [
       "        Count      Zip Code     Latitude    Longitude  Tenure Months  \\\n",
       "count  7043.0   7043.000000  7043.000000  7043.000000    7043.000000   \n",
       "mean      1.0  93521.964646    36.282441  -119.798880      32.371149   \n",
       "std       0.0   1865.794555     2.455723     2.157889      24.559481   \n",
       "min       1.0  90001.000000    32.555828  -124.301372       0.000000   \n",
       "25%       1.0  92102.000000    34.030915  -121.815412       9.000000   \n",
       "50%       1.0  93552.000000    36.391777  -119.730885      29.000000   \n",
       "75%       1.0  95351.000000    38.224869  -118.043237      55.000000   \n",
       "max       1.0  96161.000000    41.962127  -114.192901      72.000000   \n",
       "\n",
       "       Monthly Charges  Total Charges  Churn Value  \n",
       "count      7043.000000    7043.000000  7043.000000  \n",
       "mean         64.761692    2279.734304     0.265370  \n",
       "std          30.090047    2266.794470     0.441561  \n",
       "min          18.250000       0.000000     0.000000  \n",
       "25%          35.500000     398.550000     0.000000  \n",
       "50%          70.350000    1394.550000     0.000000  \n",
       "75%          89.850000    3786.600000     1.000000  \n",
       "max         118.750000    8684.800000     1.000000  "
      ]
     },
     "execution_count": 79,
     "metadata": {},
     "output_type": "execute_result"
    }
   ],
   "source": [
    "df.describe()"
   ]
  },
  {
   "cell_type": "code",
   "execution_count": 568,
   "id": "00aa311b-13be-4c65-8d3d-5e2f21e07ec3",
   "metadata": {},
   "outputs": [
    {
     "data": {
      "image/png": "[encoded data removed]",
      "text/plain": [
       "<Figure size 428.75x360 with 1 Axes>"
      ]
     },
     "metadata": {
      "needs_background": "light"
     },
     "output_type": "display_data"
    }
   ],
   "source": [
    "#Is churn related to amount of monthly charges?\n",
    "sns.displot(data=df, x='Monthly Charges', hue='Churn Value', kind='hist', kde=True, palette='viridis', bins=20)\n",
    "plt.title('Distribution Plot of Monthly Charges and Churn')\n",
    "plt.xlabel('Monthly Charges')\n",
    "plt.ylabel('Frequency')\n",
    "plt.savefig('monthly_charges_churn.png')\n",
    "plt.show()"
   ]
  },
  {
   "cell_type": "code",
   "execution_count": 567,
   "id": "1c0fd212-09e2-498e-b723-c45a3be6786b",
   "metadata": {},
   "outputs": [
    {
     "data": {
      "image/png": "[encoded data removed]",
      "text/plain": [
       "<Figure size 428.75x360 with 1 Axes>"
      ]
     },
     "metadata": {
      "needs_background": "light"
     },
     "output_type": "display_data"
    }
   ],
   "source": [
    "#Is churn related to duration of service?\n",
    "sns.displot(data=df, x='Tenure Months', hue='Churn Value', kind='hist', kde=True, palette='viridis', bins=20)\n",
    "plt.title('Distribution Plot of Tenure Months and Churn')\n",
    "plt.xlabel('Duration')\n",
    "plt.ylabel('Frequency')\n",
    "plt.savefig(\"months_churn.png\")\n",
    "plt.show()\n"
   ]
  },
  {
   "cell_type": "markdown",
   "id": "5602811f-9805-484d-9f1c-f586c21f07b4",
   "metadata": {},
   "source": [
    "### Demographics of churners"
   ]
  },
  {
   "cell_type": "code",
   "execution_count": 134,
   "id": "77851ad3-1d79-46ca-87c8-5266ab4bf492",
   "metadata": {},
   "outputs": [
    {
     "data": {
      "text/plain": [
       "No     5901\n",
       "Yes    1142\n",
       "Name: Senior Citizen, dtype: int64"
      ]
     },
     "execution_count": 134,
     "metadata": {},
     "output_type": "execute_result"
    }
   ],
   "source": [
    "df['Senior Citizen'].value_counts()"
   ]
  },
  {
   "cell_type": "code",
   "execution_count": 131,
   "id": "d059aaf8-61fe-4f14-af7f-b3beb3ab254e",
   "metadata": {},
   "outputs": [
    {
     "data": {
      "text/plain": [
       "0    5174\n",
       "1    1869\n",
       "Name: Churn Value, dtype: int64"
      ]
     },
     "execution_count": 131,
     "metadata": {},
     "output_type": "execute_result"
    }
   ],
   "source": [
    "df['Churn Value'].value_counts()"
   ]
  },
  {
   "cell_type": "code",
   "execution_count": 135,
   "id": "0d7c3707-7df7-4544-98a1-638352a0cda7",
   "metadata": {},
   "outputs": [
    {
     "data": {
      "image/png": "[encoded data removed]",
      "text/plain": [
       "<Figure size 428.75x360 with 1 Axes>"
      ]
     },
     "metadata": {
      "needs_background": "light"
     },
     "output_type": "display_data"
    }
   ],
   "source": [
    "# do seniors churn more?\n",
    "sns.displot(data=df, x='Senior Citizen', kind='hist', hue = 'Churn Value',palette='viridis', bins=2)\n",
    "plt.title('Distribution Plot of being a Senior Citizen and Churn')\n",
    "plt.xlabel('Senior Citizen')\n",
    "plt.ylabel('Frequency')\n",
    "plt.savefig(\"senior_citizen_plot.png\")\n",
    "plt.show()"
   ]
  },
  {
   "cell_type": "code",
   "execution_count": 293,
   "id": "479c290f-0e4b-4f3a-a000-5b69ffa8068b",
   "metadata": {},
   "outputs": [
    {
     "data": {
      "text/plain": [
       "5901"
      ]
     },
     "execution_count": 293,
     "metadata": {},
     "output_type": "execute_result"
    }
   ],
   "source": [
    "df['Senior Citizen'].value_counts()[0]"
   ]
  },
  {
   "cell_type": "code",
   "execution_count": null,
   "id": "b12d9034-837d-4487-8a7f-a3f1b0d83c6a",
   "metadata": {},
   "outputs": [],
   "source": [
    "sns.displot(data=df, x=df['Senior Citizen'], hue = df['Churn Value'], kind='hist', palette='viridis', bins=20)\n",
    "plt.title('Distribution Plot of Age and Churn')\n",
    "plt.xlabel('Senior Citizen')\n",
    "plt.ylabel('Frequency')\n",
    "plt.show()"
   ]
  },
  {
   "cell_type": "code",
   "execution_count": 8,
   "id": "ecd24982-c122-4c28-924c-1bfef15b84b0",
   "metadata": {},
   "outputs": [
    {
     "data": {
      "image/png": "[encoded data removed]",
      "text/plain": [
       "<Figure size 720x432 with 1 Axes>"
      ]
     },
     "metadata": {
      "needs_background": "light"
     },
     "output_type": "display_data"
    }
   ],
   "source": [
    "# Calculate the churn percentage for each group\n",
    "churn_percentages = df.groupby('Senior Citizen')['Churn Value'].mean() * 100\n",
    "\n",
    "# Create the plot\n",
    "fig, ax = plt.subplots(figsize=(10, 6))\n",
    "sns.histplot(data=df, x='Senior Citizen', hue='Churn Value', palette='viridis', bins=20, ax=ax)\n",
    "\n",
    "# Add the churn percentage to the bars\n",
    "for i, bar in enumerate(ax.patches):\n",
    "    if i % 2 == 0:\n",
    "        ax.text(bar.get_x() + bar.get_width() / 2, bar.get_height() + 0.5, f\"{churn_percentages[0]:.2f}%\", ha='center', va='bottom', fontsize=8)\n",
    "    else:\n",
    "        ax.text(bar.get_x() + bar.get_width() / 2, bar.get_height() + 0.5, f\"{churn_percentages[1]:.2f}%\", ha='center', va='bottom', fontsize=8)\n",
    "\n",
    "plt.title('Distribution of whether a User is a Senior Citizen and Churn')\n",
    "plt.xlabel('Senior Citizen')\n",
    "plt.ylabel('Frequency')\n",
    "plt.savefig(\"senior_citizen_plot.png\")\n",
    "plt.show()"
   ]
  },
  {
   "cell_type": "code",
   "execution_count": 11,
   "id": "524bc1da-a2d6-40ad-96b3-91c274dfe0a5",
   "metadata": {},
   "outputs": [
    {
     "data": {
      "text/plain": [
       "Senior Citizen  Churn Value\n",
       "No              0              4508\n",
       "                1              1393\n",
       "Yes             0               666\n",
       "                1               476\n",
       "dtype: int64"
      ]
     },
     "execution_count": 11,
     "metadata": {},
     "output_type": "execute_result"
    }
   ],
   "source": [
    "churn_counts"
   ]
  },
  {
   "cell_type": "code",
   "execution_count": 24,
   "id": "c05fd6a9-8a04-460e-a9fc-f9408612af84",
   "metadata": {},
   "outputs": [
    {
     "data": {
      "text/plain": [
       "5901"
      ]
     },
     "execution_count": 24,
     "metadata": {},
     "output_type": "execute_result"
    }
   ],
   "source": [
    "total_count1"
   ]
  },
  {
   "cell_type": "code",
   "execution_count": 25,
   "id": "062753ac-16b8-4e6f-81d4-a2a10a413787",
   "metadata": {},
   "outputs": [
    {
     "data": {
      "text/plain": [
       "1142"
      ]
     },
     "execution_count": 25,
     "metadata": {},
     "output_type": "execute_result"
    }
   ],
   "source": [
    "total_count2"
   ]
  },
  {
   "cell_type": "code",
   "execution_count": 26,
   "id": "b16d8333-0008-4aff-b7e0-a9a6868c71c8",
   "metadata": {},
   "outputs": [
    {
     "data": {
      "text/html": [
       "<div>\n",
       "<style scoped>\n",
       "    .dataframe tbody tr th:only-of-type {\n",
       "        vertical-align: middle;\n",
       "    }\n",
       "\n",
       "    .dataframe tbody tr th {\n",
       "        vertical-align: top;\n",
       "    }\n",
       "\n",
       "    .dataframe thead th {\n",
       "        text-align: right;\n",
       "    }\n",
       "</style>\n",
       "<table border=\"1\" class=\"dataframe\">\n",
       "  <thead>\n",
       "    <tr style=\"text-align: right;\">\n",
       "      <th>Churn Value</th>\n",
       "      <th>0</th>\n",
       "      <th>1</th>\n",
       "    </tr>\n",
       "    <tr>\n",
       "      <th>Senior Citizen</th>\n",
       "      <th></th>\n",
       "      <th></th>\n",
       "    </tr>\n",
       "  </thead>\n",
       "  <tbody>\n",
       "    <tr>\n",
       "      <th>No</th>\n",
       "      <td>76.393832</td>\n",
       "      <td>23.606168</td>\n",
       "    </tr>\n",
       "    <tr>\n",
       "      <th>Yes</th>\n",
       "      <td>11.286223</td>\n",
       "      <td>8.066429</td>\n",
       "    </tr>\n",
       "  </tbody>\n",
       "</table>\n",
       "</div>"
      ],
      "text/plain": [
       "Churn Value             0          1\n",
       "Senior Citizen                      \n",
       "No              76.393832  23.606168\n",
       "Yes             11.286223   8.066429"
      ]
     },
     "execution_count": 26,
     "metadata": {},
     "output_type": "execute_result"
    }
   ],
   "source": [
    "churn_percentages1"
   ]
  },
  {
   "cell_type": "code",
   "execution_count": 31,
   "id": "6311067a-2fe0-4ab0-9e9e-712992f7a9d3",
   "metadata": {},
   "outputs": [
    {
     "data": {
      "text/plain": [
       "8.066429418742587"
      ]
     },
     "execution_count": 31,
     "metadata": {},
     "output_type": "execute_result"
    }
   ],
   "source": [
    "churn_percentages.iloc[1, 1]"
   ]
  },
  {
   "cell_type": "code",
   "execution_count": 108,
   "id": "a3cf78c0-5885-4223-8cc4-202876b972ad",
   "metadata": {},
   "outputs": [
    {
     "data": {
      "text/plain": [
       "No     5901\n",
       "Yes    1142\n",
       "Name: Senior Citizen, dtype: int64"
      ]
     },
     "execution_count": 108,
     "metadata": {},
     "output_type": "execute_result"
    }
   ],
   "source": [
    "df['Senior Citizen'].value_counts()"
   ]
  },
  {
   "cell_type": "code",
   "execution_count": 59,
   "id": "0cd5ca7a-fbb6-4166-9468-208af35760ff",
   "metadata": {},
   "outputs": [],
   "source": [
    "group = df.groupby('Senior Citizen')['Churn Value'].mean() * 100\n",
    "\n",
    "order = ['No', 'Yes']\n",
    "\n",
    "churn_percentages = group.reindex(order)"
   ]
  },
  {
   "cell_type": "code",
   "execution_count": 60,
   "id": "cf2b66ca-dd12-4bbc-a962-77db9fcee824",
   "metadata": {},
   "outputs": [
    {
     "data": {
      "text/plain": [
       "Senior Citizen\n",
       "No     23.606168\n",
       "Yes    41.681261\n",
       "Name: Churn Value, dtype: float64"
      ]
     },
     "execution_count": 60,
     "metadata": {},
     "output_type": "execute_result"
    }
   ],
   "source": [
    "churn_percentages"
   ]
  },
  {
   "cell_type": "code",
   "execution_count": 71,
   "id": "53f523fe-f25b-4645-907a-8d1e94965a67",
   "metadata": {},
   "outputs": [
    {
     "data": {
      "text/plain": [
       "1393"
      ]
     },
     "execution_count": 71,
     "metadata": {},
     "output_type": "execute_result"
    }
   ],
   "source": [
    "df[(df['Senior Citizen'] == 'No') & (df['Churn Value'] == 1)].shape[0]"
   ]
  },
  {
   "cell_type": "code",
   "execution_count": 106,
   "id": "ee8f2c75-19f9-4a8e-bef1-9448343fe6e5",
   "metadata": {},
   "outputs": [],
   "source": [
    "senior_churn = df[(df['Senior Citizen'] == 'Yes') & (df['Churn Value'] == 1)].shape[0]\n",
    "senior_total = df[df['Senior Citizen'] == 'Yes'].shape[0]\n",
    "senior_churn_pct = (senior_churn / senior_total) * 100\n",
    "\n",
    "non_senior_churn = df[(df['Senior Citizen'] == 'No') & (df['Churn Value'] == 1)].shape[0]\n",
    "non_senior_total = df[df['Senior Citizen'] == 'No'].shape[0]\n",
    "non_senior_churn_pct = (non_senior_churn / non_senior_total) * 100"
   ]
  },
  {
   "cell_type": "code",
   "execution_count": 109,
   "id": "3bde28e3-6530-40b2-ae60-d2f54914d570",
   "metadata": {},
   "outputs": [
    {
     "data": {
      "text/plain": [
       "476"
      ]
     },
     "execution_count": 109,
     "metadata": {},
     "output_type": "execute_result"
    }
   ],
   "source": [
    "senior_churn"
   ]
  },
  {
   "cell_type": "code",
   "execution_count": 107,
   "id": "36c8c07e-1819-46e4-ae75-8c0d1bfc49c5",
   "metadata": {},
   "outputs": [
    {
     "data": {
      "text/plain": [
       "666"
      ]
     },
     "execution_count": 107,
     "metadata": {},
     "output_type": "execute_result"
    }
   ],
   "source": [
    "df[(df['Senior Citizen'] == 'Yes') & (df['Churn Value'] == 0)].shape[0]"
   ]
  },
  {
   "cell_type": "code",
   "execution_count": 110,
   "id": "c029b578-765e-4bc7-ac9c-c917bf5beee0",
   "metadata": {},
   "outputs": [
    {
     "data": {
      "text/plain": [
       "1142"
      ]
     },
     "execution_count": 110,
     "metadata": {},
     "output_type": "execute_result"
    }
   ],
   "source": [
    "senior_total"
   ]
  },
  {
   "cell_type": "code",
   "execution_count": 111,
   "id": "7e1efaeb-3de0-4f8d-b48d-5be7719052dc",
   "metadata": {},
   "outputs": [
    {
     "data": {
      "text/plain": [
       "41.68126094570928"
      ]
     },
     "execution_count": 111,
     "metadata": {},
     "output_type": "execute_result"
    }
   ],
   "source": [
    "senior_churn_pct"
   ]
  },
  {
   "cell_type": "code",
   "execution_count": 91,
   "id": "ee330b60-a1ca-4948-8fe3-a252a6eec273",
   "metadata": {},
   "outputs": [
    {
     "data": {
      "text/plain": [
       "(1393, 31)"
      ]
     },
     "execution_count": 91,
     "metadata": {},
     "output_type": "execute_result"
    }
   ],
   "source": [
    "df[(df['Senior Citizen'] == 'No') & (df['Churn Value'] == 1)].shape"
   ]
  },
  {
   "cell_type": "code",
   "execution_count": 94,
   "id": "6dc3efff-6b95-455b-ae4b-01b554514f58",
   "metadata": {},
   "outputs": [
    {
     "data": {
      "text/plain": [
       "(4508, 31)"
      ]
     },
     "execution_count": 94,
     "metadata": {},
     "output_type": "execute_result"
    }
   ],
   "source": [
    "df[(df['Senior Citizen'] == 'No') & (df['Churn Value'] == 0)].shape"
   ]
  },
  {
   "cell_type": "code",
   "execution_count": 95,
   "id": "f82171a0-463d-4252-9b63-9d9eacab7766",
   "metadata": {},
   "outputs": [
    {
     "data": {
      "text/plain": [
       "(476, 31)"
      ]
     },
     "execution_count": 95,
     "metadata": {},
     "output_type": "execute_result"
    }
   ],
   "source": [
    "df[(df['Senior Citizen'] == 'Yes') & (df['Churn Value'] == 1)].shape"
   ]
  },
  {
   "cell_type": "code",
   "execution_count": 96,
   "id": "ea1a864d-d6e8-4c8e-87a3-43c0dbecdec8",
   "metadata": {},
   "outputs": [
    {
     "data": {
      "text/plain": [
       "(666, 31)"
      ]
     },
     "execution_count": 96,
     "metadata": {},
     "output_type": "execute_result"
    }
   ],
   "source": [
    "df[(df['Senior Citizen'] == 'Yes') & (df['Churn Value'] == 0)].shape"
   ]
  },
  {
   "cell_type": "code",
   "execution_count": 102,
   "id": "e6d26871-9cce-49f3-a19e-4ca2a4c5601a",
   "metadata": {},
   "outputs": [
    {
     "data": {
      "text/plain": [
       "41.68126094570928"
      ]
     },
     "execution_count": 102,
     "metadata": {},
     "output_type": "execute_result"
    }
   ],
   "source": [
    "senior_churn_pct"
   ]
  },
  {
   "cell_type": "code",
   "execution_count": 112,
   "id": "7218efbd-5558-416c-9194-237ecff1bd9d",
   "metadata": {},
   "outputs": [
    {
     "data": {
      "image/png": "[encoded data removed]",
      "text/plain": [
       "<Figure size 432x288 with 1 Axes>"
      ]
     },
     "metadata": {
      "needs_background": "light"
     },
     "output_type": "display_data"
    }
   ],
   "source": [
    "senior_churn = df[(df['Senior Citizen'] == 'Yes') & (df['Churn Value'] == 1)].shape[0]\n",
    "senior_total = df[df['Senior Citizen'] == 'Yes'].shape[0]\n",
    "senior_churn_pct = (senior_churn / senior_total) * 100\n",
    "\n",
    "non_senior_churn = df[(df['Senior Citizen'] == 'No') & (df['Churn Value'] == 1)].shape[0]\n",
    "non_senior_total = df[df['Senior Citizen'] == 'No'].shape[0]\n",
    "non_senior_churn_pct = (non_senior_churn / non_senior_total) * 100\n",
    "\n",
    "group = df.groupby('Senior Citizen')['Churn Value'].mean() * 100\n",
    "\n",
    "order = ['No', 'Yes']\n",
    "\n",
    "churn_percentages = [non_senior_churn_pct, senior_churn_pct]\n",
    "\n",
    "\n",
    "sns.histplot(data=df, x='Senior Citizen', hue='Churn Value', bins=20, palette='viridis')\n",
    "\n",
    "for i, percentage in enumerate(churn_percentages):\n",
    "    plt.text(i, percentage, f'{percentage:.1f}%', ha='center', va='bottom')\n",
    "\n",
    "plt.title('Distribution Plot of Being a Senior Citizen of Churners')\n",
    "plt.xlabel('Senior Citizen')\n",
    "plt.ylabel('Frequency')\n",
    "plt.show()"
   ]
  },
  {
   "cell_type": "code",
   "execution_count": 284,
   "id": "114afbba-4619-4d6e-aa20-e479378f375f",
   "metadata": {},
   "outputs": [
    {
     "data": {
      "image/png": "[encoded data removed]",
      "text/plain": [
       "<Figure size 360x360 with 1 Axes>"
      ]
     },
     "metadata": {
      "needs_background": "light"
     },
     "output_type": "display_data"
    }
   ],
   "source": [
    "# do people, who have a partner churn more?\n",
    "sns.displot(data=df[df['Churn Value'] == 1], x=df['Partner'],  kind='hist', palette='viridis', bins=20)\n",
    "plt.title('Distribution Plot of Having a Partner of Churners')\n",
    "plt.xlabel('Partner')\n",
    "plt.ylabel('Frequency')\n",
    "plt.show()"
   ]
  },
  {
   "cell_type": "code",
   "execution_count": 566,
   "id": "fcd20fea-9aa3-4ae3-b603-ef6b0b7fa484",
   "metadata": {},
   "outputs": [
    {
     "data": {
      "image/png": "[encoded data removed]",
      "text/plain": [
       "<Figure size 428.75x360 with 1 Axes>"
      ]
     },
     "metadata": {
      "needs_background": "light"
     },
     "output_type": "display_data"
    }
   ],
   "source": [
    "sns.displot(data=df, x=df['Partner'], hue = df['Churn Value'], kind='hist', palette='viridis', bins=20)\n",
    "plt.title('Distribution Plot of Having a Partner and Churn')\n",
    "plt.xlabel('Partner')#rename\n",
    "plt.ylabel('Frequency')\n",
    "plt.savefig(\"partner_plot.png\")\n",
    "plt.show()\n"
   ]
  },
  {
   "cell_type": "code",
   "execution_count": 573,
   "id": "e8e71d83-12ad-4478-b2cc-f2ebde4cbe8d",
   "metadata": {},
   "outputs": [
    {
     "data": {
      "image/png": "[encoded data removed]",
      "text/plain": [
       "<Figure size 432x288 with 1 Axes>"
      ]
     },
     "metadata": {
      "needs_background": "light"
     },
     "output_type": "display_data"
    }
   ],
   "source": [
    "group = df.groupby('Partner')['Churn Value'].mean() * 100\n",
    "\n",
    "order = ['No', 'Yes']\n",
    "\n",
    "churn_percentages = group.reindex(order)\n",
    "\n",
    "\n",
    "sns.histplot(data=df, x='Partner', hue='Churn Value', bins=20, palette='viridis')\n",
    "\n",
    "for i, percentage in enumerate(churn_percentages):\n",
    "    plt.text(i, percentage, f'{percentage:.1f}%', ha='center', va='bottom')\n",
    "    tech_support_churned = df[(df['Tech Support'] == 'Yes') & (df['Churn Value'] == 1)].shape[0]\n",
    "    tech_support_not_churned = df[(df['Tech Support'] == 'Yes') & (df['Churn Value'] == 0)].shape[0]\n",
    "\n",
    "tech_support_churned/(tech_support_churned + tech_support_not_churned) * 100\n",
    "\n",
    "plt.title('Distribution Plot of Having a Partner and Churn')\n",
    "plt.xlabel('Partner')\n",
    "plt.ylabel('Frequency')\n",
    "plt.savefig('partner_plot.png')\n",
    "plt.show()"
   ]
  },
  {
   "cell_type": "code",
   "execution_count": 564,
   "id": "1e0e622a-20fc-43d6-a053-e45e98e40a6c",
   "metadata": {},
   "outputs": [
    {
     "data": {
      "image/png": "[encoded data removed]",
      "text/plain": [
       "<Figure size 360x360 with 1 Axes>"
      ]
     },
     "metadata": {
      "needs_background": "light"
     },
     "output_type": "display_data"
    }
   ],
   "source": [
    "#do customers who have dependents churn more?\n",
    "sns.displot(data=df[df['Churn Value'] == 1], x=df['Dependents'],  kind='hist', palette='viridis', bins=20)\n",
    "plt.title('Distribution Plot of Having Dependents of Churners')\n",
    "plt.xlabel('Dependents')\n",
    "plt.ylabel('Frequency')\n",
    "plt.show()\n"
   ]
  },
  {
   "cell_type": "code",
   "execution_count": 574,
   "id": "2066c8b5-b948-4daf-878c-193a7c956e26",
   "metadata": {},
   "outputs": [
    {
     "data": {
      "image/png": "[encoded data removed]",
      "text/plain": [
       "<Figure size 428.75x360 with 1 Axes>"
      ]
     },
     "metadata": {
      "needs_background": "light"
     },
     "output_type": "display_data"
    }
   ],
   "source": [
    "sns.displot(data=df, x=df['Dependents'], hue = df['Churn Value'], kind='hist', palette='viridis', bins=20)\n",
    "plt.title('Distribution Plot of Having a Dependents and Churn')\n",
    "plt.xlabel('Dependents')\n",
    "plt.ylabel('Frequency')\n",
    "plt.savefig('dependents_plot.png', bbox_inches='tight')\n",
    "plt.show()\n"
   ]
  },
  {
   "cell_type": "code",
   "execution_count": 571,
   "id": "0b8209e9-f8a2-464e-96f2-9a3baee4a252",
   "metadata": {},
   "outputs": [
    {
     "data": {
      "image/png": "[encoded data removed]",
      "text/plain": [
       "<Figure size 432x288 with 1 Axes>"
      ]
     },
     "metadata": {
      "needs_background": "light"
     },
     "output_type": "display_data"
    }
   ],
   "source": [
    "group = df.groupby('Dependents')['Churn Value'].mean() * 100\n",
    "\n",
    "order = ['No', 'Yes']\n",
    "\n",
    "churn_percentages = group.reindex(order)\n",
    "\n",
    "\n",
    "sns.histplot(data=df, x='Dependents', hue='Churn Value', bins=20, palette='viridis')\n",
    "\n",
    "for i, percentage in enumerate(churn_percentages):\n",
    "    plt.text(i, percentage, f'{percentage:.1f}%', ha='center', va='bottom')\n",
    "\n",
    "plt.title('Distribution Plot of Having Dependents and Churn')\n",
    "plt.xlabel('Dependents')\n",
    "plt.ylabel('Frequency')\n",
    "plt.savefig('dependents_plot.png')\n",
    "plt.show()"
   ]
  },
  {
   "cell_type": "code",
   "execution_count": null,
   "id": "640453a6-28d4-4188-bb70-e3f62acb042d",
   "metadata": {},
   "outputs": [],
   "source": []
  },
  {
   "cell_type": "code",
   "execution_count": 313,
   "id": "b833bab6-4ddc-431b-8e00-67cef15c266c",
   "metadata": {},
   "outputs": [
    {
     "data": {
      "text/plain": [
       "No                     3473\n",
       "Yes                    2044\n",
       "No internet service    1526\n",
       "Name: Tech Support, dtype: int64"
      ]
     },
     "execution_count": 313,
     "metadata": {},
     "output_type": "execute_result"
    }
   ],
   "source": [
    "df['Tech Support'].value_counts()"
   ]
  },
  {
   "cell_type": "code",
   "execution_count": 648,
   "id": "46f232dc-0d41-469f-ab00-4c23210370fb",
   "metadata": {},
   "outputs": [],
   "source": [
    "df_supp = df[['Online Security', 'Online Backup', 'Device Protection', 'Tech Support', 'Churn Value']]"
   ]
  },
  {
   "cell_type": "code",
   "execution_count": 649,
   "id": "890cd3a6-c4b9-4113-baf7-a5b536ae8a6c",
   "metadata": {},
   "outputs": [
    {
     "name": "stderr",
     "output_type": "stream",
     "text": [
      "/var/folders/fl/qc3l7n_94138j5q0q1lz5x0w0000gn/T/ipykernel_14565/3596692886.py:1: SettingWithCopyWarning: \n",
      "A value is trying to be set on a copy of a slice from a DataFrame.\n",
      "Try using .loc[row_indexer,col_indexer] = value instead\n",
      "\n",
      "See the caveats in the documentation: https://pandas.pydata.org/pandas-docs/stable/user_guide/indexing.html#returning-a-view-versus-a-copy\n",
      "  df_supp['Online Security'] = df['Online Security'].map({'No':0, 'Yes': 1, 'No internet service' : 2})\n"
     ]
    }
   ],
   "source": [
    "df_supp['Online Security'] = df['Online Security'].map({'No':0, 'Yes': 1, 'No internet service' : 2})"
   ]
  },
  {
   "cell_type": "code",
   "execution_count": 650,
   "id": "db0fb4e1-4dab-42e4-9ac5-3c84d1bd2bd3",
   "metadata": {},
   "outputs": [
    {
     "name": "stderr",
     "output_type": "stream",
     "text": [
      "/var/folders/fl/qc3l7n_94138j5q0q1lz5x0w0000gn/T/ipykernel_14565/1497012448.py:1: SettingWithCopyWarning: \n",
      "A value is trying to be set on a copy of a slice from a DataFrame.\n",
      "Try using .loc[row_indexer,col_indexer] = value instead\n",
      "\n",
      "See the caveats in the documentation: https://pandas.pydata.org/pandas-docs/stable/user_guide/indexing.html#returning-a-view-versus-a-copy\n",
      "  df_supp['Online Backup'] = df['Online Backup'].map({'No':0, 'Yes': 1, 'No internet service' : 2})\n"
     ]
    }
   ],
   "source": [
    "df_supp['Online Backup'] = df['Online Backup'].map({'No':0, 'Yes': 1, 'No internet service' : 2})"
   ]
  },
  {
   "cell_type": "code",
   "execution_count": 651,
   "id": "dcc43c9f-4460-416a-bd57-d28428ad3d95",
   "metadata": {},
   "outputs": [
    {
     "name": "stderr",
     "output_type": "stream",
     "text": [
      "/var/folders/fl/qc3l7n_94138j5q0q1lz5x0w0000gn/T/ipykernel_14565/3676092679.py:1: SettingWithCopyWarning: \n",
      "A value is trying to be set on a copy of a slice from a DataFrame.\n",
      "Try using .loc[row_indexer,col_indexer] = value instead\n",
      "\n",
      "See the caveats in the documentation: https://pandas.pydata.org/pandas-docs/stable/user_guide/indexing.html#returning-a-view-versus-a-copy\n",
      "  df_supp['Device Protection'] = df['Device Protection'].map({'No':0, 'Yes': 1, 'No internet service' : 2})\n"
     ]
    }
   ],
   "source": [
    "df_supp['Device Protection'] = df['Device Protection'].map({'No':0, 'Yes': 1, 'No internet service' : 2})"
   ]
  },
  {
   "cell_type": "code",
   "execution_count": 652,
   "id": "3dae78f3-ca57-4e86-a073-c65cfd16f5dd",
   "metadata": {},
   "outputs": [
    {
     "name": "stderr",
     "output_type": "stream",
     "text": [
      "/var/folders/fl/qc3l7n_94138j5q0q1lz5x0w0000gn/T/ipykernel_14565/3587074358.py:1: SettingWithCopyWarning: \n",
      "A value is trying to be set on a copy of a slice from a DataFrame.\n",
      "Try using .loc[row_indexer,col_indexer] = value instead\n",
      "\n",
      "See the caveats in the documentation: https://pandas.pydata.org/pandas-docs/stable/user_guide/indexing.html#returning-a-view-versus-a-copy\n",
      "  df_supp['Tech Support'] = df['Tech Support'].map({'No':0, 'Yes': 1, 'No internet service' : 2})\n"
     ]
    }
   ],
   "source": [
    "df_supp['Tech Support'] = df['Tech Support'].map({'No':0, 'Yes': 1, 'No internet service' : 2})"
   ]
  },
  {
   "cell_type": "code",
   "execution_count": 655,
   "id": "7616ac74-d2fb-46fa-8b51-9dc495d2d16b",
   "metadata": {},
   "outputs": [
    {
     "data": {
      "text/plain": [
       "(7043, 5)"
      ]
     },
     "execution_count": 655,
     "metadata": {},
     "output_type": "execute_result"
    }
   ],
   "source": [
    "df_supp.shape"
   ]
  },
  {
   "cell_type": "code",
   "execution_count": 322,
   "id": "8d098818-0a14-461e-a41d-ddbddaa674c2",
   "metadata": {},
   "outputs": [],
   "source": [
    "df_melt = pd.melt(\n",
    "    df_supp,\n",
    "    id_vars=None,\n",
    "    value_vars=['Online Security', 'Online Backup', 'Device Protection', 'Tech Support'],\n",
    "    var_name='variable',\n",
    "    value_name='value',\n",
    "    ignore_index=True\n",
    ")"
   ]
  },
  {
   "cell_type": "code",
   "execution_count": 579,
   "id": "ea28f44f-0fb1-42ea-ab47-6e186bfe780c",
   "metadata": {},
   "outputs": [],
   "source": [
    "df_melt = pd.melt(\n",
    "    df_supp, id_vars = 'Churn Value',\n",
    ")"
   ]
  },
  {
   "cell_type": "code",
   "execution_count": 622,
   "id": "1708bf18-0afe-433b-b490-936b175e002b",
   "metadata": {},
   "outputs": [
    {
     "data": {
      "text/html": [
       "<div>\n",
       "<style scoped>\n",
       "    .dataframe tbody tr th:only-of-type {\n",
       "        vertical-align: middle;\n",
       "    }\n",
       "\n",
       "    .dataframe tbody tr th {\n",
       "        vertical-align: top;\n",
       "    }\n",
       "\n",
       "    .dataframe thead th {\n",
       "        text-align: right;\n",
       "    }\n",
       "</style>\n",
       "<table border=\"1\" class=\"dataframe\">\n",
       "  <thead>\n",
       "    <tr style=\"text-align: right;\">\n",
       "      <th></th>\n",
       "      <th>Online Security</th>\n",
       "      <th>Online Backup</th>\n",
       "      <th>Device Protection</th>\n",
       "      <th>Tech Support</th>\n",
       "      <th>Churn Value</th>\n",
       "    </tr>\n",
       "  </thead>\n",
       "  <tbody>\n",
       "    <tr>\n",
       "      <th>0</th>\n",
       "      <td>Yes</td>\n",
       "      <td>Yes</td>\n",
       "      <td>No</td>\n",
       "      <td>No</td>\n",
       "      <td>1</td>\n",
       "    </tr>\n",
       "    <tr>\n",
       "      <th>1</th>\n",
       "      <td>No</td>\n",
       "      <td>No</td>\n",
       "      <td>No</td>\n",
       "      <td>No</td>\n",
       "      <td>1</td>\n",
       "    </tr>\n",
       "    <tr>\n",
       "      <th>2</th>\n",
       "      <td>No</td>\n",
       "      <td>No</td>\n",
       "      <td>Yes</td>\n",
       "      <td>No</td>\n",
       "      <td>1</td>\n",
       "    </tr>\n",
       "    <tr>\n",
       "      <th>3</th>\n",
       "      <td>No</td>\n",
       "      <td>No</td>\n",
       "      <td>Yes</td>\n",
       "      <td>Yes</td>\n",
       "      <td>1</td>\n",
       "    </tr>\n",
       "    <tr>\n",
       "      <th>4</th>\n",
       "      <td>No</td>\n",
       "      <td>Yes</td>\n",
       "      <td>Yes</td>\n",
       "      <td>No</td>\n",
       "      <td>1</td>\n",
       "    </tr>\n",
       "    <tr>\n",
       "      <th>...</th>\n",
       "      <td>...</td>\n",
       "      <td>...</td>\n",
       "      <td>...</td>\n",
       "      <td>...</td>\n",
       "      <td>...</td>\n",
       "    </tr>\n",
       "    <tr>\n",
       "      <th>7038</th>\n",
       "      <td>No internet service</td>\n",
       "      <td>No internet service</td>\n",
       "      <td>No internet service</td>\n",
       "      <td>No internet service</td>\n",
       "      <td>0</td>\n",
       "    </tr>\n",
       "    <tr>\n",
       "      <th>7039</th>\n",
       "      <td>Yes</td>\n",
       "      <td>No</td>\n",
       "      <td>Yes</td>\n",
       "      <td>Yes</td>\n",
       "      <td>0</td>\n",
       "    </tr>\n",
       "    <tr>\n",
       "      <th>7040</th>\n",
       "      <td>No</td>\n",
       "      <td>Yes</td>\n",
       "      <td>Yes</td>\n",
       "      <td>No</td>\n",
       "      <td>0</td>\n",
       "    </tr>\n",
       "    <tr>\n",
       "      <th>7041</th>\n",
       "      <td>Yes</td>\n",
       "      <td>No</td>\n",
       "      <td>No</td>\n",
       "      <td>No</td>\n",
       "      <td>0</td>\n",
       "    </tr>\n",
       "    <tr>\n",
       "      <th>7042</th>\n",
       "      <td>Yes</td>\n",
       "      <td>No</td>\n",
       "      <td>Yes</td>\n",
       "      <td>Yes</td>\n",
       "      <td>0</td>\n",
       "    </tr>\n",
       "  </tbody>\n",
       "</table>\n",
       "<p>7043 rows × 5 columns</p>\n",
       "</div>"
      ],
      "text/plain": [
       "          Online Security        Online Backup    Device Protection  \\\n",
       "0                     Yes                  Yes                   No   \n",
       "1                      No                   No                   No   \n",
       "2                      No                   No                  Yes   \n",
       "3                      No                   No                  Yes   \n",
       "4                      No                  Yes                  Yes   \n",
       "...                   ...                  ...                  ...   \n",
       "7038  No internet service  No internet service  No internet service   \n",
       "7039                  Yes                   No                  Yes   \n",
       "7040                   No                  Yes                  Yes   \n",
       "7041                  Yes                   No                   No   \n",
       "7042                  Yes                   No                  Yes   \n",
       "\n",
       "             Tech Support  Churn Value  \n",
       "0                      No            1  \n",
       "1                      No            1  \n",
       "2                      No            1  \n",
       "3                     Yes            1  \n",
       "4                      No            1  \n",
       "...                   ...          ...  \n",
       "7038  No internet service            0  \n",
       "7039                  Yes            0  \n",
       "7040                   No            0  \n",
       "7041                   No            0  \n",
       "7042                  Yes            0  \n",
       "\n",
       "[7043 rows x 5 columns]"
      ]
     },
     "execution_count": 622,
     "metadata": {},
     "output_type": "execute_result"
    }
   ],
   "source": [
    "df[['Online Security', 'Online Backup', 'Device Protection', 'Tech Support', 'Churn Value']]"
   ]
  },
  {
   "cell_type": "code",
   "execution_count": null,
   "id": "ec7ff18a-6ae6-4f14-87d0-434d7a51393f",
   "metadata": {},
   "outputs": [],
   "source": []
  },
  {
   "cell_type": "code",
   "execution_count": 628,
   "id": "07acfd15-7e79-4b96-a46c-8a13dd1e6fbd",
   "metadata": {},
   "outputs": [],
   "source": [
    "df_supp.to_csv('df_supp_1.csv', sep=',', index=False, encoding='utf-8')"
   ]
  },
  {
   "cell_type": "code",
   "execution_count": 348,
   "id": "91e97d78-20aa-418b-980b-37625f6af74d",
   "metadata": {},
   "outputs": [],
   "source": [
    "df_melt.value = df_melt.value.value_counts()"
   ]
  },
  {
   "cell_type": "code",
   "execution_count": 624,
   "id": "493ba047-f894-4f5e-b1bf-9344177bdfd6",
   "metadata": {},
   "outputs": [],
   "source": [
    "df_supp = df_supp[df_supp['Online Security'] != 2]"
   ]
  },
  {
   "cell_type": "code",
   "execution_count": 627,
   "id": "0ba52ee4-affa-402f-b9d4-f6eb2c44471c",
   "metadata": {},
   "outputs": [
    {
     "data": {
      "text/plain": [
       "0    3088\n",
       "1    2429\n",
       "Name: Online Backup, dtype: int64"
      ]
     },
     "execution_count": 627,
     "metadata": {},
     "output_type": "execute_result"
    }
   ],
   "source": [
    "df_supp"
   ]
  },
  {
   "cell_type": "code",
   "execution_count": 576,
   "id": "e253133d-5927-40db-92ee-9c25c76e3211",
   "metadata": {},
   "outputs": [
    {
     "data": {
      "image/png": "[encoded data removed]",
      "text/plain": [
       "<Figure size 864x576 with 1 Axes>"
      ]
     },
     "metadata": {
      "needs_background": "light"
     },
     "output_type": "display_data"
    }
   ],
   "source": [
    "# Create the figure and axes\n",
    "fig, ax = plt.subplots(figsize=(12, 8))\n",
    "\n",
    "# Create the frequency graph\n",
    "sns.countplot(\n",
    "    x='value',\n",
    "    hue= 'variable'\n",
    "    data=df_melt,\n",
    "    palette='viridis',\n",
    "    ax=ax\n",
    ")\n",
    "\n",
    "# Set the title and axis labels\n",
    "plt.title('Frequency of Values by Variable')\n",
    "plt.xlabel('Value')\n",
    "plt.ylabel('Count')\n",
    "\n",
    "# Adjust the legend\n",
    "plt.legend(title='Variable')\n",
    "\n",
    "\n",
    "# Adjust the layout\n",
    "plt.tight_layout()\n",
    "plt.show()"
   ]
  },
  {
   "cell_type": "code",
   "execution_count": 362,
   "id": "d5fc83fa-ebe6-4094-8625-e607c36fd0ab",
   "metadata": {},
   "outputs": [
    {
     "data": {
      "text/html": [
       "<div>\n",
       "<style scoped>\n",
       "    .dataframe tbody tr th:only-of-type {\n",
       "        vertical-align: middle;\n",
       "    }\n",
       "\n",
       "    .dataframe tbody tr th {\n",
       "        vertical-align: top;\n",
       "    }\n",
       "\n",
       "    .dataframe thead th {\n",
       "        text-align: right;\n",
       "    }\n",
       "</style>\n",
       "<table border=\"1\" class=\"dataframe\">\n",
       "  <thead>\n",
       "    <tr style=\"text-align: right;\">\n",
       "      <th></th>\n",
       "      <th>Online Security</th>\n",
       "      <th>Online Backup</th>\n",
       "      <th>Device Protection</th>\n",
       "      <th>Tech Support</th>\n",
       "      <th>Churn Value</th>\n",
       "    </tr>\n",
       "  </thead>\n",
       "  <tbody>\n",
       "    <tr>\n",
       "      <th>0</th>\n",
       "      <td>1</td>\n",
       "      <td>1</td>\n",
       "      <td>0</td>\n",
       "      <td>0</td>\n",
       "      <td>1</td>\n",
       "    </tr>\n",
       "    <tr>\n",
       "      <th>1</th>\n",
       "      <td>0</td>\n",
       "      <td>0</td>\n",
       "      <td>0</td>\n",
       "      <td>0</td>\n",
       "      <td>1</td>\n",
       "    </tr>\n",
       "    <tr>\n",
       "      <th>2</th>\n",
       "      <td>0</td>\n",
       "      <td>0</td>\n",
       "      <td>1</td>\n",
       "      <td>0</td>\n",
       "      <td>1</td>\n",
       "    </tr>\n",
       "    <tr>\n",
       "      <th>3</th>\n",
       "      <td>0</td>\n",
       "      <td>0</td>\n",
       "      <td>1</td>\n",
       "      <td>1</td>\n",
       "      <td>1</td>\n",
       "    </tr>\n",
       "    <tr>\n",
       "      <th>4</th>\n",
       "      <td>0</td>\n",
       "      <td>1</td>\n",
       "      <td>1</td>\n",
       "      <td>0</td>\n",
       "      <td>1</td>\n",
       "    </tr>\n",
       "  </tbody>\n",
       "</table>\n",
       "</div>"
      ],
      "text/plain": [
       "   Online Security  Online Backup  Device Protection  Tech Support  \\\n",
       "0                1              1                  0             0   \n",
       "1                0              0                  0             0   \n",
       "2                0              0                  1             0   \n",
       "3                0              0                  1             1   \n",
       "4                0              1                  1             0   \n",
       "\n",
       "   Churn Value  \n",
       "0            1  \n",
       "1            1  \n",
       "2            1  \n",
       "3            1  \n",
       "4            1  "
      ]
     },
     "execution_count": 362,
     "metadata": {},
     "output_type": "execute_result"
    }
   ],
   "source": [
    "df_supp.head()"
   ]
  },
  {
   "cell_type": "code",
   "execution_count": 363,
   "id": "1f5c759c-f36b-46e0-9bc7-a3d513de232c",
   "metadata": {
    "scrolled": true,
    "tags": []
   },
   "outputs": [],
   "source": [
    "df_melt = pd.melt(\n",
    "    df_supp, id_vars = 'Churn Value', value_vars = ['Online Security', 'Online Backup', 'Device Protection', 'Tech Support']\n",
    ")\n"
   ]
  },
  {
   "cell_type": "code",
   "execution_count": null,
   "id": "38b3428b-01df-417f-9173-b14da5a761de",
   "metadata": {},
   "outputs": [],
   "source": [
    "df_plot = [['variable' : ['Online Security', 'Online Security', 'Online Security', 'Online Backup', 'Online Backup', 'Online Backup', 'Device Protection', 'Device Protection', 'Device Protection', 'Tech Support', 'Tech Support', 'Tech Support'],  "
   ]
  },
  {
   "cell_type": "code",
   "execution_count": 588,
   "id": "3bc81b0d-bffc-47f2-a1a7-b6dfc172bc9b",
   "metadata": {},
   "outputs": [
    {
     "data": {
      "text/plain": [
       "0    13154\n",
       "1     8914\n",
       "2     6104\n",
       "Name: value, dtype: int64"
      ]
     },
     "execution_count": 588,
     "metadata": {},
     "output_type": "execute_result"
    }
   ],
   "source": [
    "df_melt['value'].value_counts()"
   ]
  },
  {
   "cell_type": "code",
   "execution_count": 600,
   "id": "b9419f0f-d1d1-45e9-bfb3-006830b62f2b",
   "metadata": {},
   "outputs": [
    {
     "data": {
      "text/plain": [
       "Index(['Online Security', 'Online Backup', 'Device Protection', 'Tech Support',\n",
       "       'Churn Value'],\n",
       "      dtype='object')"
      ]
     },
     "execution_count": 600,
     "metadata": {},
     "output_type": "execute_result"
    }
   ],
   "source": [
    "df_supp.columns"
   ]
  },
  {
   "cell_type": "code",
   "execution_count": 612,
   "id": "7f5fa8ea-c015-4368-9b91-b10ecf6ed227",
   "metadata": {},
   "outputs": [
    {
     "data": {
      "text/html": [
       "<div>\n",
       "<style scoped>\n",
       "    .dataframe tbody tr th:only-of-type {\n",
       "        vertical-align: middle;\n",
       "    }\n",
       "\n",
       "    .dataframe tbody tr th {\n",
       "        vertical-align: top;\n",
       "    }\n",
       "\n",
       "    .dataframe thead th {\n",
       "        text-align: right;\n",
       "    }\n",
       "</style>\n",
       "<table border=\"1\" class=\"dataframe\">\n",
       "  <thead>\n",
       "    <tr style=\"text-align: right;\">\n",
       "      <th></th>\n",
       "      <th>variable</th>\n",
       "      <th>value</th>\n",
       "      <th>Churn Value</th>\n",
       "      <th>Count</th>\n",
       "    </tr>\n",
       "  </thead>\n",
       "  <tbody>\n",
       "    <tr>\n",
       "      <th>0</th>\n",
       "      <td>Device Protection</td>\n",
       "      <td>0</td>\n",
       "      <td>0</td>\n",
       "      <td>1884</td>\n",
       "    </tr>\n",
       "    <tr>\n",
       "      <th>1</th>\n",
       "      <td>Device Protection</td>\n",
       "      <td>0</td>\n",
       "      <td>1</td>\n",
       "      <td>1211</td>\n",
       "    </tr>\n",
       "    <tr>\n",
       "      <th>2</th>\n",
       "      <td>Device Protection</td>\n",
       "      <td>1</td>\n",
       "      <td>0</td>\n",
       "      <td>1877</td>\n",
       "    </tr>\n",
       "    <tr>\n",
       "      <th>3</th>\n",
       "      <td>Device Protection</td>\n",
       "      <td>1</td>\n",
       "      <td>1</td>\n",
       "      <td>545</td>\n",
       "    </tr>\n",
       "    <tr>\n",
       "      <th>4</th>\n",
       "      <td>Device Protection</td>\n",
       "      <td>2</td>\n",
       "      <td>0</td>\n",
       "      <td>1413</td>\n",
       "    </tr>\n",
       "    <tr>\n",
       "      <th>5</th>\n",
       "      <td>Device Protection</td>\n",
       "      <td>2</td>\n",
       "      <td>1</td>\n",
       "      <td>113</td>\n",
       "    </tr>\n",
       "    <tr>\n",
       "      <th>6</th>\n",
       "      <td>Online Backup</td>\n",
       "      <td>0</td>\n",
       "      <td>0</td>\n",
       "      <td>1855</td>\n",
       "    </tr>\n",
       "    <tr>\n",
       "      <th>7</th>\n",
       "      <td>Online Backup</td>\n",
       "      <td>0</td>\n",
       "      <td>1</td>\n",
       "      <td>1233</td>\n",
       "    </tr>\n",
       "    <tr>\n",
       "      <th>8</th>\n",
       "      <td>Online Backup</td>\n",
       "      <td>1</td>\n",
       "      <td>0</td>\n",
       "      <td>1906</td>\n",
       "    </tr>\n",
       "    <tr>\n",
       "      <th>9</th>\n",
       "      <td>Online Backup</td>\n",
       "      <td>1</td>\n",
       "      <td>1</td>\n",
       "      <td>523</td>\n",
       "    </tr>\n",
       "    <tr>\n",
       "      <th>10</th>\n",
       "      <td>Online Backup</td>\n",
       "      <td>2</td>\n",
       "      <td>0</td>\n",
       "      <td>1413</td>\n",
       "    </tr>\n",
       "    <tr>\n",
       "      <th>11</th>\n",
       "      <td>Online Backup</td>\n",
       "      <td>2</td>\n",
       "      <td>1</td>\n",
       "      <td>113</td>\n",
       "    </tr>\n",
       "    <tr>\n",
       "      <th>12</th>\n",
       "      <td>Online Security</td>\n",
       "      <td>0</td>\n",
       "      <td>0</td>\n",
       "      <td>2037</td>\n",
       "    </tr>\n",
       "    <tr>\n",
       "      <th>13</th>\n",
       "      <td>Online Security</td>\n",
       "      <td>0</td>\n",
       "      <td>1</td>\n",
       "      <td>1461</td>\n",
       "    </tr>\n",
       "    <tr>\n",
       "      <th>14</th>\n",
       "      <td>Online Security</td>\n",
       "      <td>1</td>\n",
       "      <td>0</td>\n",
       "      <td>1724</td>\n",
       "    </tr>\n",
       "    <tr>\n",
       "      <th>15</th>\n",
       "      <td>Online Security</td>\n",
       "      <td>1</td>\n",
       "      <td>1</td>\n",
       "      <td>295</td>\n",
       "    </tr>\n",
       "    <tr>\n",
       "      <th>16</th>\n",
       "      <td>Online Security</td>\n",
       "      <td>2</td>\n",
       "      <td>0</td>\n",
       "      <td>1413</td>\n",
       "    </tr>\n",
       "    <tr>\n",
       "      <th>17</th>\n",
       "      <td>Online Security</td>\n",
       "      <td>2</td>\n",
       "      <td>1</td>\n",
       "      <td>113</td>\n",
       "    </tr>\n",
       "    <tr>\n",
       "      <th>18</th>\n",
       "      <td>Tech Support</td>\n",
       "      <td>0</td>\n",
       "      <td>0</td>\n",
       "      <td>2027</td>\n",
       "    </tr>\n",
       "    <tr>\n",
       "      <th>19</th>\n",
       "      <td>Tech Support</td>\n",
       "      <td>0</td>\n",
       "      <td>1</td>\n",
       "      <td>1446</td>\n",
       "    </tr>\n",
       "    <tr>\n",
       "      <th>20</th>\n",
       "      <td>Tech Support</td>\n",
       "      <td>1</td>\n",
       "      <td>0</td>\n",
       "      <td>1734</td>\n",
       "    </tr>\n",
       "    <tr>\n",
       "      <th>21</th>\n",
       "      <td>Tech Support</td>\n",
       "      <td>1</td>\n",
       "      <td>1</td>\n",
       "      <td>310</td>\n",
       "    </tr>\n",
       "    <tr>\n",
       "      <th>22</th>\n",
       "      <td>Tech Support</td>\n",
       "      <td>2</td>\n",
       "      <td>0</td>\n",
       "      <td>1413</td>\n",
       "    </tr>\n",
       "    <tr>\n",
       "      <th>23</th>\n",
       "      <td>Tech Support</td>\n",
       "      <td>2</td>\n",
       "      <td>1</td>\n",
       "      <td>113</td>\n",
       "    </tr>\n",
       "  </tbody>\n",
       "</table>\n",
       "</div>"
      ],
      "text/plain": [
       "             variable  value  Churn Value  Count\n",
       "0   Device Protection      0            0   1884\n",
       "1   Device Protection      0            1   1211\n",
       "2   Device Protection      1            0   1877\n",
       "3   Device Protection      1            1    545\n",
       "4   Device Protection      2            0   1413\n",
       "5   Device Protection      2            1    113\n",
       "6       Online Backup      0            0   1855\n",
       "7       Online Backup      0            1   1233\n",
       "8       Online Backup      1            0   1906\n",
       "9       Online Backup      1            1    523\n",
       "10      Online Backup      2            0   1413\n",
       "11      Online Backup      2            1    113\n",
       "12    Online Security      0            0   2037\n",
       "13    Online Security      0            1   1461\n",
       "14    Online Security      1            0   1724\n",
       "15    Online Security      1            1    295\n",
       "16    Online Security      2            0   1413\n",
       "17    Online Security      2            1    113\n",
       "18       Tech Support      0            0   2027\n",
       "19       Tech Support      0            1   1446\n",
       "20       Tech Support      1            0   1734\n",
       "21       Tech Support      1            1    310\n",
       "22       Tech Support      2            0   1413\n",
       "23       Tech Support      2            1    113"
      ]
     },
     "execution_count": 612,
     "metadata": {},
     "output_type": "execute_result"
    }
   ],
   "source": [
    "grouped_data"
   ]
  },
  {
   "cell_type": "code",
   "execution_count": 629,
   "id": "5c649700-bff6-4c2b-8507-08f8528c11cb",
   "metadata": {},
   "outputs": [
    {
     "data": {
      "text/html": [
       "<div>\n",
       "<style scoped>\n",
       "    .dataframe tbody tr th:only-of-type {\n",
       "        vertical-align: middle;\n",
       "    }\n",
       "\n",
       "    .dataframe tbody tr th {\n",
       "        vertical-align: top;\n",
       "    }\n",
       "\n",
       "    .dataframe thead th {\n",
       "        text-align: right;\n",
       "    }\n",
       "</style>\n",
       "<table border=\"1\" class=\"dataframe\">\n",
       "  <thead>\n",
       "    <tr style=\"text-align: right;\">\n",
       "      <th></th>\n",
       "      <th>variable</th>\n",
       "      <th>value</th>\n",
       "      <th>Churn Value</th>\n",
       "      <th>Count</th>\n",
       "    </tr>\n",
       "  </thead>\n",
       "  <tbody>\n",
       "    <tr>\n",
       "      <th>0</th>\n",
       "      <td>Device Protection</td>\n",
       "      <td>0</td>\n",
       "      <td>0</td>\n",
       "      <td>1884</td>\n",
       "    </tr>\n",
       "    <tr>\n",
       "      <th>1</th>\n",
       "      <td>Device Protection</td>\n",
       "      <td>0</td>\n",
       "      <td>1</td>\n",
       "      <td>1211</td>\n",
       "    </tr>\n",
       "    <tr>\n",
       "      <th>2</th>\n",
       "      <td>Device Protection</td>\n",
       "      <td>1</td>\n",
       "      <td>0</td>\n",
       "      <td>1877</td>\n",
       "    </tr>\n",
       "    <tr>\n",
       "      <th>3</th>\n",
       "      <td>Device Protection</td>\n",
       "      <td>1</td>\n",
       "      <td>1</td>\n",
       "      <td>545</td>\n",
       "    </tr>\n",
       "    <tr>\n",
       "      <th>4</th>\n",
       "      <td>Device Protection</td>\n",
       "      <td>2</td>\n",
       "      <td>0</td>\n",
       "      <td>1413</td>\n",
       "    </tr>\n",
       "    <tr>\n",
       "      <th>5</th>\n",
       "      <td>Device Protection</td>\n",
       "      <td>2</td>\n",
       "      <td>1</td>\n",
       "      <td>113</td>\n",
       "    </tr>\n",
       "    <tr>\n",
       "      <th>6</th>\n",
       "      <td>Online Backup</td>\n",
       "      <td>0</td>\n",
       "      <td>0</td>\n",
       "      <td>1855</td>\n",
       "    </tr>\n",
       "    <tr>\n",
       "      <th>7</th>\n",
       "      <td>Online Backup</td>\n",
       "      <td>0</td>\n",
       "      <td>1</td>\n",
       "      <td>1233</td>\n",
       "    </tr>\n",
       "    <tr>\n",
       "      <th>8</th>\n",
       "      <td>Online Backup</td>\n",
       "      <td>1</td>\n",
       "      <td>0</td>\n",
       "      <td>1906</td>\n",
       "    </tr>\n",
       "    <tr>\n",
       "      <th>9</th>\n",
       "      <td>Online Backup</td>\n",
       "      <td>1</td>\n",
       "      <td>1</td>\n",
       "      <td>523</td>\n",
       "    </tr>\n",
       "    <tr>\n",
       "      <th>10</th>\n",
       "      <td>Online Backup</td>\n",
       "      <td>2</td>\n",
       "      <td>0</td>\n",
       "      <td>1413</td>\n",
       "    </tr>\n",
       "    <tr>\n",
       "      <th>11</th>\n",
       "      <td>Online Backup</td>\n",
       "      <td>2</td>\n",
       "      <td>1</td>\n",
       "      <td>113</td>\n",
       "    </tr>\n",
       "    <tr>\n",
       "      <th>12</th>\n",
       "      <td>Online Security</td>\n",
       "      <td>0</td>\n",
       "      <td>0</td>\n",
       "      <td>2037</td>\n",
       "    </tr>\n",
       "    <tr>\n",
       "      <th>13</th>\n",
       "      <td>Online Security</td>\n",
       "      <td>0</td>\n",
       "      <td>1</td>\n",
       "      <td>1461</td>\n",
       "    </tr>\n",
       "    <tr>\n",
       "      <th>14</th>\n",
       "      <td>Online Security</td>\n",
       "      <td>1</td>\n",
       "      <td>0</td>\n",
       "      <td>1724</td>\n",
       "    </tr>\n",
       "    <tr>\n",
       "      <th>15</th>\n",
       "      <td>Online Security</td>\n",
       "      <td>1</td>\n",
       "      <td>1</td>\n",
       "      <td>295</td>\n",
       "    </tr>\n",
       "    <tr>\n",
       "      <th>16</th>\n",
       "      <td>Online Security</td>\n",
       "      <td>2</td>\n",
       "      <td>0</td>\n",
       "      <td>1413</td>\n",
       "    </tr>\n",
       "    <tr>\n",
       "      <th>17</th>\n",
       "      <td>Online Security</td>\n",
       "      <td>2</td>\n",
       "      <td>1</td>\n",
       "      <td>113</td>\n",
       "    </tr>\n",
       "    <tr>\n",
       "      <th>18</th>\n",
       "      <td>Tech Support</td>\n",
       "      <td>0</td>\n",
       "      <td>0</td>\n",
       "      <td>2027</td>\n",
       "    </tr>\n",
       "    <tr>\n",
       "      <th>19</th>\n",
       "      <td>Tech Support</td>\n",
       "      <td>0</td>\n",
       "      <td>1</td>\n",
       "      <td>1446</td>\n",
       "    </tr>\n",
       "    <tr>\n",
       "      <th>20</th>\n",
       "      <td>Tech Support</td>\n",
       "      <td>1</td>\n",
       "      <td>0</td>\n",
       "      <td>1734</td>\n",
       "    </tr>\n",
       "    <tr>\n",
       "      <th>21</th>\n",
       "      <td>Tech Support</td>\n",
       "      <td>1</td>\n",
       "      <td>1</td>\n",
       "      <td>310</td>\n",
       "    </tr>\n",
       "    <tr>\n",
       "      <th>22</th>\n",
       "      <td>Tech Support</td>\n",
       "      <td>2</td>\n",
       "      <td>0</td>\n",
       "      <td>1413</td>\n",
       "    </tr>\n",
       "    <tr>\n",
       "      <th>23</th>\n",
       "      <td>Tech Support</td>\n",
       "      <td>2</td>\n",
       "      <td>1</td>\n",
       "      <td>113</td>\n",
       "    </tr>\n",
       "  </tbody>\n",
       "</table>\n",
       "</div>"
      ],
      "text/plain": [
       "             variable  value  Churn Value  Count\n",
       "0   Device Protection      0            0   1884\n",
       "1   Device Protection      0            1   1211\n",
       "2   Device Protection      1            0   1877\n",
       "3   Device Protection      1            1    545\n",
       "4   Device Protection      2            0   1413\n",
       "5   Device Protection      2            1    113\n",
       "6       Online Backup      0            0   1855\n",
       "7       Online Backup      0            1   1233\n",
       "8       Online Backup      1            0   1906\n",
       "9       Online Backup      1            1    523\n",
       "10      Online Backup      2            0   1413\n",
       "11      Online Backup      2            1    113\n",
       "12    Online Security      0            0   2037\n",
       "13    Online Security      0            1   1461\n",
       "14    Online Security      1            0   1724\n",
       "15    Online Security      1            1    295\n",
       "16    Online Security      2            0   1413\n",
       "17    Online Security      2            1    113\n",
       "18       Tech Support      0            0   2027\n",
       "19       Tech Support      0            1   1446\n",
       "20       Tech Support      1            0   1734\n",
       "21       Tech Support      1            1    310\n",
       "22       Tech Support      2            0   1413\n",
       "23       Tech Support      2            1    113"
      ]
     },
     "execution_count": 629,
     "metadata": {},
     "output_type": "execute_result"
    }
   ],
   "source": [
    "grouped_data"
   ]
  },
  {
   "cell_type": "code",
   "execution_count": 645,
   "id": "29c7fe1e-d75d-41e0-b331-b82890720bc9",
   "metadata": {},
   "outputs": [
    {
     "data": {
      "image/png": "[encoded data removed]",
      "text/plain": [
       "<Figure size 864x576 with 1 Axes>"
      ]
     },
     "metadata": {},
     "output_type": "display_data"
    }
   ],
   "source": [
    "\n",
    "# Grouping the data by 'Variable', 'Value', and 'Churn Value' and getting the count\n",
    "grouped_data = df_melt.groupby(['variable', 'value', 'Churn Value']).size().reset_index(name='Count')\n",
    "\n",
    "# Create the figure and axes\n",
    "fig, ax = plt.subplots(figsize=(12, 8))\n",
    "\n"
   ]
  },
  {
   "cell_type": "code",
   "execution_count": 50,
   "id": "09da547c-a47d-4868-9723-bfd827a9e6f8",
   "metadata": {},
   "outputs": [],
   "source": [
    "pd.set_option('display.max_rows', None)"
   ]
  },
  {
   "cell_type": "code",
   "execution_count": 647,
   "id": "b0d1eb4d-676c-4cf1-996d-2966b7d6ed61",
   "metadata": {},
   "outputs": [
    {
     "data": {
      "text/plain": [
       "(5517, 5)"
      ]
     },
     "execution_count": 647,
     "metadata": {},
     "output_type": "execute_result"
    }
   ],
   "source": [
    "df_supp.shape"
   ]
  },
  {
   "cell_type": "code",
   "execution_count": 301,
   "id": "0e991650-cc6c-4a7a-8421-1ad1060d5f81",
   "metadata": {},
   "outputs": [
    {
     "ename": "TypeError",
     "evalue": "'<' not supported between instances of 'int' and 'str'",
     "output_type": "error",
     "traceback": [
      "\u001b[0;31m---------------------------------------------------------------------------\u001b[0m",
      "\u001b[0;31mTypeError\u001b[0m                                 Traceback (most recent call last)",
      "Input \u001b[0;32mIn [301]\u001b[0m, in \u001b[0;36m<cell line: 1>\u001b[0;34m()\u001b[0m\n\u001b[0;32m----> 1\u001b[0m df_plot \u001b[38;5;241m=\u001b[39m \u001b[43mpd\u001b[49m\u001b[38;5;241;43m.\u001b[39;49m\u001b[43mmelt\u001b[49m\u001b[43m(\u001b[49m\u001b[43mdf_supp\u001b[49m\u001b[43m)\u001b[49m\u001b[38;5;241;43m.\u001b[39;49m\u001b[43msort_values\u001b[49m\u001b[43m(\u001b[49m\u001b[43mby\u001b[49m\u001b[38;5;241;43m=\u001b[39;49m\u001b[38;5;124;43m'\u001b[39;49m\u001b[38;5;124;43mvalue\u001b[39;49m\u001b[38;5;124;43m'\u001b[39;49m\u001b[43m,\u001b[49m\u001b[43m \u001b[49m\u001b[43mascending\u001b[49m\u001b[38;5;241;43m=\u001b[39;49m\u001b[38;5;28;43;01mTrue\u001b[39;49;00m\u001b[43m)\u001b[49m\n",
      "File \u001b[0;32m~/opt/anaconda3/lib/python3.9/site-packages/pandas/util/_decorators.py:311\u001b[0m, in \u001b[0;36mdeprecate_nonkeyword_arguments.<locals>.decorate.<locals>.wrapper\u001b[0;34m(*args, **kwargs)\u001b[0m\n\u001b[1;32m    305\u001b[0m \u001b[38;5;28;01mif\u001b[39;00m \u001b[38;5;28mlen\u001b[39m(args) \u001b[38;5;241m>\u001b[39m num_allow_args:\n\u001b[1;32m    306\u001b[0m     warnings\u001b[38;5;241m.\u001b[39mwarn(\n\u001b[1;32m    307\u001b[0m         msg\u001b[38;5;241m.\u001b[39mformat(arguments\u001b[38;5;241m=\u001b[39marguments),\n\u001b[1;32m    308\u001b[0m         \u001b[38;5;167;01mFutureWarning\u001b[39;00m,\n\u001b[1;32m    309\u001b[0m         stacklevel\u001b[38;5;241m=\u001b[39mstacklevel,\n\u001b[1;32m    310\u001b[0m     )\n\u001b[0;32m--> 311\u001b[0m \u001b[38;5;28;01mreturn\u001b[39;00m \u001b[43mfunc\u001b[49m\u001b[43m(\u001b[49m\u001b[38;5;241;43m*\u001b[39;49m\u001b[43margs\u001b[49m\u001b[43m,\u001b[49m\u001b[43m \u001b[49m\u001b[38;5;241;43m*\u001b[39;49m\u001b[38;5;241;43m*\u001b[39;49m\u001b[43mkwargs\u001b[49m\u001b[43m)\u001b[49m\n",
      "File \u001b[0;32m~/opt/anaconda3/lib/python3.9/site-packages/pandas/core/frame.py:6324\u001b[0m, in \u001b[0;36mDataFrame.sort_values\u001b[0;34m(self, by, axis, ascending, inplace, kind, na_position, ignore_index, key)\u001b[0m\n\u001b[1;32m   6321\u001b[0m     \u001b[38;5;28;01mif\u001b[39;00m \u001b[38;5;28misinstance\u001b[39m(ascending, (\u001b[38;5;28mtuple\u001b[39m, \u001b[38;5;28mlist\u001b[39m)):\n\u001b[1;32m   6322\u001b[0m         ascending \u001b[38;5;241m=\u001b[39m ascending[\u001b[38;5;241m0\u001b[39m]\n\u001b[0;32m-> 6324\u001b[0m     indexer \u001b[38;5;241m=\u001b[39m \u001b[43mnargsort\u001b[49m\u001b[43m(\u001b[49m\n\u001b[1;32m   6325\u001b[0m \u001b[43m        \u001b[49m\u001b[43mk\u001b[49m\u001b[43m,\u001b[49m\u001b[43m \u001b[49m\u001b[43mkind\u001b[49m\u001b[38;5;241;43m=\u001b[39;49m\u001b[43mkind\u001b[49m\u001b[43m,\u001b[49m\u001b[43m \u001b[49m\u001b[43mascending\u001b[49m\u001b[38;5;241;43m=\u001b[39;49m\u001b[43mascending\u001b[49m\u001b[43m,\u001b[49m\u001b[43m \u001b[49m\u001b[43mna_position\u001b[49m\u001b[38;5;241;43m=\u001b[39;49m\u001b[43mna_position\u001b[49m\u001b[43m,\u001b[49m\u001b[43m \u001b[49m\u001b[43mkey\u001b[49m\u001b[38;5;241;43m=\u001b[39;49m\u001b[43mkey\u001b[49m\n\u001b[1;32m   6326\u001b[0m \u001b[43m    \u001b[49m\u001b[43m)\u001b[49m\n\u001b[1;32m   6327\u001b[0m \u001b[38;5;28;01melse\u001b[39;00m:\n\u001b[1;32m   6328\u001b[0m     \u001b[38;5;28;01mreturn\u001b[39;00m \u001b[38;5;28mself\u001b[39m\u001b[38;5;241m.\u001b[39mcopy()\n",
      "File \u001b[0;32m~/opt/anaconda3/lib/python3.9/site-packages/pandas/core/sorting.py:417\u001b[0m, in \u001b[0;36mnargsort\u001b[0;34m(items, kind, ascending, na_position, key, mask)\u001b[0m\n\u001b[1;32m    415\u001b[0m     non_nans \u001b[38;5;241m=\u001b[39m non_nans[::\u001b[38;5;241m-\u001b[39m\u001b[38;5;241m1\u001b[39m]\n\u001b[1;32m    416\u001b[0m     non_nan_idx \u001b[38;5;241m=\u001b[39m non_nan_idx[::\u001b[38;5;241m-\u001b[39m\u001b[38;5;241m1\u001b[39m]\n\u001b[0;32m--> 417\u001b[0m indexer \u001b[38;5;241m=\u001b[39m non_nan_idx[\u001b[43mnon_nans\u001b[49m\u001b[38;5;241;43m.\u001b[39;49m\u001b[43margsort\u001b[49m\u001b[43m(\u001b[49m\u001b[43mkind\u001b[49m\u001b[38;5;241;43m=\u001b[39;49m\u001b[43mkind\u001b[49m\u001b[43m)\u001b[49m]\n\u001b[1;32m    418\u001b[0m \u001b[38;5;28;01mif\u001b[39;00m \u001b[38;5;129;01mnot\u001b[39;00m ascending:\n\u001b[1;32m    419\u001b[0m     indexer \u001b[38;5;241m=\u001b[39m indexer[::\u001b[38;5;241m-\u001b[39m\u001b[38;5;241m1\u001b[39m]\n",
      "\u001b[0;31mTypeError\u001b[0m: '<' not supported between instances of 'int' and 'str'"
     ]
    }
   ],
   "source": [
    "df_plot = pd.melt(df_supp).sort_values(by='value', ascending=True)"
   ]
  },
  {
   "cell_type": "code",
   "execution_count": 660,
   "id": "f5aaf70b-fa5d-4aba-bfaa-83ffa833e30d",
   "metadata": {},
   "outputs": [
    {
     "data": {
      "text/html": [
       "<div>\n",
       "<style scoped>\n",
       "    .dataframe tbody tr th:only-of-type {\n",
       "        vertical-align: middle;\n",
       "    }\n",
       "\n",
       "    .dataframe tbody tr th {\n",
       "        vertical-align: top;\n",
       "    }\n",
       "\n",
       "    .dataframe thead th {\n",
       "        text-align: right;\n",
       "    }\n",
       "</style>\n",
       "<table border=\"1\" class=\"dataframe\">\n",
       "  <thead>\n",
       "    <tr style=\"text-align: right;\">\n",
       "      <th></th>\n",
       "      <th>Online Security</th>\n",
       "      <th>Online Backup</th>\n",
       "      <th>Device Protection</th>\n",
       "      <th>Tech Support</th>\n",
       "      <th>Churn Value</th>\n",
       "    </tr>\n",
       "  </thead>\n",
       "  <tbody>\n",
       "    <tr>\n",
       "      <th>0</th>\n",
       "      <td>1</td>\n",
       "      <td>1</td>\n",
       "      <td>0</td>\n",
       "      <td>0</td>\n",
       "      <td>1</td>\n",
       "    </tr>\n",
       "    <tr>\n",
       "      <th>1</th>\n",
       "      <td>0</td>\n",
       "      <td>0</td>\n",
       "      <td>0</td>\n",
       "      <td>0</td>\n",
       "      <td>1</td>\n",
       "    </tr>\n",
       "    <tr>\n",
       "      <th>2</th>\n",
       "      <td>0</td>\n",
       "      <td>0</td>\n",
       "      <td>1</td>\n",
       "      <td>0</td>\n",
       "      <td>1</td>\n",
       "    </tr>\n",
       "    <tr>\n",
       "      <th>3</th>\n",
       "      <td>0</td>\n",
       "      <td>0</td>\n",
       "      <td>1</td>\n",
       "      <td>1</td>\n",
       "      <td>1</td>\n",
       "    </tr>\n",
       "    <tr>\n",
       "      <th>4</th>\n",
       "      <td>0</td>\n",
       "      <td>1</td>\n",
       "      <td>1</td>\n",
       "      <td>0</td>\n",
       "      <td>1</td>\n",
       "    </tr>\n",
       "    <tr>\n",
       "      <th>...</th>\n",
       "      <td>...</td>\n",
       "      <td>...</td>\n",
       "      <td>...</td>\n",
       "      <td>...</td>\n",
       "      <td>...</td>\n",
       "    </tr>\n",
       "    <tr>\n",
       "      <th>7038</th>\n",
       "      <td>2</td>\n",
       "      <td>2</td>\n",
       "      <td>2</td>\n",
       "      <td>2</td>\n",
       "      <td>0</td>\n",
       "    </tr>\n",
       "    <tr>\n",
       "      <th>7039</th>\n",
       "      <td>1</td>\n",
       "      <td>0</td>\n",
       "      <td>1</td>\n",
       "      <td>1</td>\n",
       "      <td>0</td>\n",
       "    </tr>\n",
       "    <tr>\n",
       "      <th>7040</th>\n",
       "      <td>0</td>\n",
       "      <td>1</td>\n",
       "      <td>1</td>\n",
       "      <td>0</td>\n",
       "      <td>0</td>\n",
       "    </tr>\n",
       "    <tr>\n",
       "      <th>7041</th>\n",
       "      <td>1</td>\n",
       "      <td>0</td>\n",
       "      <td>0</td>\n",
       "      <td>0</td>\n",
       "      <td>0</td>\n",
       "    </tr>\n",
       "    <tr>\n",
       "      <th>7042</th>\n",
       "      <td>1</td>\n",
       "      <td>0</td>\n",
       "      <td>1</td>\n",
       "      <td>1</td>\n",
       "      <td>0</td>\n",
       "    </tr>\n",
       "  </tbody>\n",
       "</table>\n",
       "<p>7043 rows × 5 columns</p>\n",
       "</div>"
      ],
      "text/plain": [
       "      Online Security  Online Backup  Device Protection  Tech Support  \\\n",
       "0                   1              1                  0             0   \n",
       "1                   0              0                  0             0   \n",
       "2                   0              0                  1             0   \n",
       "3                   0              0                  1             1   \n",
       "4                   0              1                  1             0   \n",
       "...               ...            ...                ...           ...   \n",
       "7038                2              2                  2             2   \n",
       "7039                1              0                  1             1   \n",
       "7040                0              1                  1             0   \n",
       "7041                1              0                  0             0   \n",
       "7042                1              0                  1             1   \n",
       "\n",
       "      Churn Value  \n",
       "0               1  \n",
       "1               1  \n",
       "2               1  \n",
       "3               1  \n",
       "4               1  \n",
       "...           ...  \n",
       "7038            0  \n",
       "7039            0  \n",
       "7040            0  \n",
       "7041            0  \n",
       "7042            0  \n",
       "\n",
       "[7043 rows x 5 columns]"
      ]
     },
     "execution_count": 660,
     "metadata": {},
     "output_type": "execute_result"
    }
   ],
   "source": [
    "df_supp"
   ]
  },
  {
   "cell_type": "code",
   "execution_count": 687,
   "id": "3d1af023-4de7-4980-a31b-9558df2cab8d",
   "metadata": {},
   "outputs": [
    {
     "data": {
      "image/png": "[encoded data removed]",
      "text/plain": [
       "<Figure size 864x432 with 1 Axes>"
      ]
     },
     "metadata": {},
     "output_type": "display_data"
    }
   ],
   "source": [
    "# Melt the DataFrame to get the variable names and their values\n",
    "melted_df = df.melt(id_vars='Churn Value', var_name='Feature', value_name='Value')\n",
    "\n",
    "# Create a pivot table to get the count of each feature value by churn value\n",
    "pivot_table = melted_df.groupby(['Value', 'Feature', 'Churn Value']).size().unstack(fill_value=0)\n",
    "\n",
    "# Create the figure and axis\n",
    "fig, ax = plt.subplots(figsize=(12, 6))\n",
    "\n",
    "# Plot the stacked bar chart\n",
    "pivot_table.plot(kind='bar', stacked=True, ax=ax)\n",
    "\n",
    "# Set the title and axis labels\n",
    "ax.set_title('Frequencies of Feature Values by Churn Value')\n",
    "ax.set_xlabel('Feature Value')\n",
    "ax.set_ylabel('Frequency')\n",
    "\n",
    "# Rotate the x-axis labels for better readability\n",
    "plt.xticks(rotation=90)\n",
    "\n",
    "# Display the legend\n",
    "ax.legend(title='Churn Value')\n",
    "\n",
    "# Display the plot\n",
    "plt.show()"
   ]
  },
  {
   "cell_type": "code",
   "execution_count": 668,
   "id": "9bdd055d-789e-4b71-a94f-c4e64d1fcb3f",
   "metadata": {},
   "outputs": [
    {
     "data": {
      "image/png": "[encoded data removed]",
      "text/plain": [
       "<Figure size 864x432 with 1 Axes>"
      ]
     },
     "metadata": {},
     "output_type": "display_data"
    }
   ],
   "source": [
    "\n",
    "# Melt the data to get the feature values in a single column\n",
    "melted_df = pd.melt(df, id_vars=['Churn Value'], var_name='Feature', value_name='Value')\n",
    "\n",
    "# Filter the dataframe to include only the specified features\n",
    "features = ['Online Security', 'Online Backup', 'Device Protection', 'Tech Support']\n",
    "melted_df = melted_df[melted_df['Feature'].isin(features)]\n",
    "\n",
    "# Create the figure and axis\n",
    "fig, ax = plt.subplots(figsize=(12, 6))\n",
    "\n",
    "# Create the stacked bar plot with side-by-side feature values\n",
    "sns.countplot(x='Feature', hue='Value', data=melted_df, ax=ax)\n",
    "\n",
    "# Set the title and axis labels\n",
    "ax.set_title('Frequencies of Feature Values')\n",
    "ax.set_xlabel('Feature')\n",
    "ax.set_ylabel('Frequency')\n",
    "\n",
    "\n",
    "# Display the legend\n",
    "ax.legend(title='Feature Value')\n",
    "\n",
    "# Display the plot\n",
    "plt.show()"
   ]
  },
  {
   "cell_type": "code",
   "execution_count": 186,
   "id": "add68f19-46c5-439e-9577-86a623193693",
   "metadata": {},
   "outputs": [],
   "source": [
    "def feature_eng(dataframe):\n",
    "    \n",
    "    # Make a copy of dataframe\n",
    "    df = dataframe.copy()\n",
    "    \n",
    "    ##### Mapping columns #######\n",
    "    # list of columns with yes's and no's\n",
    "    yn_cols = ['Senior Citizen','Partner','Dependents','Phone Service','Multiple Lines','Online Security',\n",
    "             'Online Backup','Device Protection','Tech Support','Streaming TV','Streaming Movies',\n",
    "             'Paperless Billing']\n",
    "    # mapping these columns\n",
    "    for col in yn_cols:\n",
    "        df[f'{col}'] = df[f'{col}'].map({'No':0, 'Yes':1, 'No phone service':0, 'No internet service':0, 0:0, 1:1})\n",
    "        df[f'{col}'].astype(int)\n",
    "    # mapping gender column\n",
    "    df['Gender'] = df['Gender'].map({'Male':0, 'Female': 1})\n",
    "    \n",
    "    ###### Drop Columns #########\n",
    "    df.drop(['CustomerID', 'Count', 'Country', 'State', 'City', 'Zip Code',\n",
    "            'Lat Long', 'Latitude', 'Longitude', 'Churn Label', 'Churn Reason'], axis = 1, inplace = True)\n",
    "    \n",
    "    ###### OHE ###############\n",
    "    df = pd.get_dummies(data = df, columns = ['Internet Service'], prefix='IS', drop_first=False, dtype = int)\n",
    "    df = pd.get_dummies(data = df, columns = ['Contract'], prefix='Con', drop_first=False, dtype = int)\n",
    "    df = pd.get_dummies(data = df, columns = ['Payment Method'], prefix='Pay', drop_first=False, dtype = int)\n",
    "    \n",
    "    # Churn Reason has nulls\n",
    "#     df['Churn Reason'] = df['Churn Reason'].fillna(value = 'None')\n",
    "#   df = pd.get_dummies(data = df, columns = ['Churn Reason'], prefix='Reason', drop_first=True, dtype = int)\n",
    "\n",
    "    \n",
    "    ##### Target Columns - hidden nulls in diguise \n",
    "    df['Total Charges'] = pd.to_numeric(df['Total Charges'], errors='coerce')\n",
    "\n",
    "    # Fills nulls with zeros \n",
    "    df['Total Charges'] = df['Total Charges'].fillna(value = 0)\n",
    "    \n",
    "    return df"
   ]
  },
  {
   "cell_type": "code",
   "execution_count": null,
   "id": "4f6e5b7e-d19f-4dcc-9150-7049e0d9c071",
   "metadata": {},
   "outputs": [],
   "source": []
  },
  {
   "cell_type": "code",
   "execution_count": 250,
   "id": "4852ec30-c247-4398-9cf8-9d0fc3192acb",
   "metadata": {},
   "outputs": [
    {
     "data": {
      "image/png": "[encoded data removed]",
      "text/plain": [
       "<Figure size 864x864 with 2 Axes>"
      ]
     },
     "metadata": {
      "needs_background": "light"
     },
     "output_type": "display_data"
    }
   ],
   "source": [
    "matrix = feature_eng(df).corr()\n",
    "\n",
    "plt.figure(figsize = (12, 12))\n",
    "sns.heatmap(matrix,\n",
    "            cmap = 'RdBu_r',\n",
    "            annot=True,\n",
    "            fmt = '.1',\n",
    "            mask = np.triu(matrix))\n",
    "\n",
    "plt.show()"
   ]
  },
  {
   "cell_type": "code",
   "execution_count": 187,
   "id": "43be7d2e-ad3f-471d-8274-b737248db7ec",
   "metadata": {},
   "outputs": [],
   "source": [
    "df_x = df.drop('Churn Value', axis = 1)\n",
    "X_train, X_test, y_train, y_test = train_test_split(feature_eng(df_x), df['Churn Value'], test_size = 0.2, random_state = 42)"
   ]
  },
  {
   "cell_type": "code",
   "execution_count": 251,
   "id": "223a6253-f1cd-491a-9c97-29e0c2307f8e",
   "metadata": {},
   "outputs": [
    {
     "data": {
      "text/plain": [
       "Index(['Gender', 'Senior Citizen', 'Partner', 'Dependents', 'Tenure Months',\n",
       "       'Phone Service', 'Multiple Lines', 'Online Security', 'Online Backup',\n",
       "       'Device Protection', 'Tech Support', 'Streaming TV', 'Streaming Movies',\n",
       "       'Paperless Billing', 'Monthly Charges', 'Total Charges',\n",
       "       'IS_Fiber optic', 'IS_No', 'Con_One year', 'Con_Two year',\n",
       "       'Pay_Credit card (automatic)', 'Pay_Electronic check',\n",
       "       'Pay_Mailed check'],\n",
       "      dtype='object')"
      ]
     },
     "execution_count": 251,
     "metadata": {},
     "output_type": "execute_result"
    }
   ],
   "source": [
    "X_train.columns"
   ]
  },
  {
   "cell_type": "code",
   "execution_count": 18,
   "id": "08e381b7-78e9-4a77-819c-7726ab40e2a1",
   "metadata": {},
   "outputs": [],
   "source": [
    "# features = ['Gender', 'Senior Citizen',\n",
    "#        'Partner', 'Dependents', 'Tenure Months', 'Phone Service',\n",
    "#        'Multiple Lines', 'Internet Service', 'Online Security',\n",
    "#        'Online Backup', 'Device Protection', 'Tech Support', 'Streaming TV',\n",
    "#        'Streaming Movies', 'Contract', 'Paperless Billing', 'Payment Method',\n",
    "#        'Monthly Charges', 'Total Charges', 'Churn Value']"
   ]
  },
  {
   "cell_type": "code",
   "execution_count": null,
   "id": "18b414a2-f0cd-41e8-b5ba-37c64dca8d72",
   "metadata": {},
   "outputs": [],
   "source": []
  },
  {
   "cell_type": "code",
   "execution_count": 144,
   "id": "af51d661-14a7-42eb-bf64-f257c8cb8dde",
   "metadata": {},
   "outputs": [],
   "source": [
    "rf = RandomForestClassifier(n_estimators=50) # Random Forest"
   ]
  },
  {
   "cell_type": "code",
   "execution_count": 551,
   "id": "4a4022ee-6e1d-4c88-9c3d-bfe83d950698",
   "metadata": {},
   "outputs": [
    {
     "name": "stdout",
     "output_type": "stream",
     "text": [
      "Fitting 10 folds for each of 2 candidates, totalling 20 fits\n"
     ]
    }
   ],
   "source": [
    "## Check respective cross validation scores if overfitting need to tune as shown below\n",
    "\n",
    "rf_score = cross_val_score(rf, X_train, y_train, cv=5)\n",
    " \n",
    "#Step 1: Select parameters\n",
    "rf_params = {\n",
    "\n",
    "   'criterion': ['gini','entropy'],\n",
    "    \n",
    "    'n_estimators': [200],\n",
    "\n",
    "    'max_depth': [6],\n",
    "\n",
    "    'min_samples_split': [6],\n",
    "\n",
    "    'min_samples_leaf': [8]\n",
    "}\n",
    "# (n_estimators=100, *, criterion='gini', max_depth=None, min_samples_split=2,\n",
    "# min_samples_leaf=1, min_weight_fraction_leaf=0.0, max_features='sqrt',\n",
    "# max_leaf_nodes=None, min_impurity_decrease=0.0, bootstrap=True, oob_score=False,\n",
    "# n_jobs=None, random_state=None, verbose=0, warm_start=False, class_weight=None, \n",
    "# ccp_alpha=0.0, max_samples=None, monotonic_cst=None)\n",
    "# Create a grid search object\n",
    "\n",
    "gs = GridSearchCV(rf, param_grid=rf_params, cv=10, verbose = 1) # k = 5\n",
    "\n",
    "# Fit grid search on the training set\n",
    "\n",
    "gs.fit(X_train[['Senior Citizen', 'Partner', 'Dependents', 'Tenure Months',\n",
    "        'Online Security',  'Tech Support',\n",
    "       'Paperless Billing', 'Monthly Charges', 'Total Charges',\n",
    "       'IS_Fiber optic', 'IS_No', 'Con_One year', 'Con_Two year',\n",
    "       'Pay_Credit card (automatic)', 'Pay_Electronic check']], y_train)\n",
    "\n",
    "# Save my best model as a random forest model\n",
    "\n",
    "best_rf = gs.best_estimator_\n",
    "\n",
    "# I use the model to predict on X_train\n",
    "\n",
    "y_pred = best_rf.predict(X_train[['Senior Citizen', 'Partner', 'Dependents', 'Tenure Months',\n",
    "        'Online Security',  'Tech Support',\n",
    "       'Paperless Billing', 'Monthly Charges', 'Total Charges',\n",
    "       'IS_Fiber optic', 'IS_No', 'Con_One year', 'Con_Two year',\n",
    "       'Pay_Credit card (automatic)', 'Pay_Electronic check']])"
   ]
  },
  {
   "cell_type": "code",
   "execution_count": 552,
   "id": "8b87ec14-0359-46cb-80dd-37c221e1c2ab",
   "metadata": {},
   "outputs": [
    {
     "data": {
      "text/plain": [
       "RandomForestClassifier(criterion='entropy', max_depth=6, min_samples_leaf=8,\n",
       "                       min_samples_split=6, n_estimators=200)"
      ]
     },
     "execution_count": 552,
     "metadata": {},
     "output_type": "execute_result"
    }
   ],
   "source": [
    "gs.best_estimator_"
   ]
  },
  {
   "cell_type": "code",
   "execution_count": 553,
   "id": "bd3127e1-22fc-4c97-8f27-316a713a3e90",
   "metadata": {},
   "outputs": [
    {
     "data": {
      "text/plain": [
       "{'criterion': 'entropy',\n",
       " 'max_depth': 6,\n",
       " 'min_samples_leaf': 8,\n",
       " 'min_samples_split': 6,\n",
       " 'n_estimators': 200}"
      ]
     },
     "execution_count": 553,
     "metadata": {},
     "output_type": "execute_result"
    }
   ],
   "source": [
    "gs.best_params_"
   ]
  },
  {
   "cell_type": "code",
   "execution_count": 378,
   "id": "4b1a3456-8444-48fa-8ac1-efcedaa32bca",
   "metadata": {},
   "outputs": [],
   "source": [
    "def apr(y_pred, y_real):\n",
    "\n",
    "    accuracy = metrics.accuracy_score(y_real, y_pred)\n",
    "\n",
    "    precision = metrics.precision_score(y_real, y_pred)\n",
    "\n",
    "    recall = metrics.recall_score(y_real, y_pred)\n",
    "\n",
    "    f1 = metrics.f1_score(y_real, y_pred)\n",
    "\n",
    "    \n",
    "\n",
    "    print(f\"Accuracy:{accuracy}\")\n",
    "\n",
    "    print(f\"Precision:{precision}\")\n",
    "\n",
    "    print(f\"Recall:{recall}\")\n",
    "\n",
    "    print(f\"F1:{f1}\")\n",
    "\n",
    "    return accuracy, precision, recall, f1"
   ]
  },
  {
   "cell_type": "code",
   "execution_count": null,
   "id": "43d4c250-d7c3-4789-a765-b4a8ad7d0372",
   "metadata": {},
   "outputs": [],
   "source": [
    "# base:\n",
    "# Accuracy:0.8097266595669151\n",
    "# Precision:0.7212931995540691\n",
    "# Recall:0.4404356705241661\n",
    "# F1:0.5469146238377007"
   ]
  },
  {
   "cell_type": "code",
   "execution_count": null,
   "id": "ff0f7d00-6997-4b5a-aea7-e781f5016601",
   "metadata": {},
   "outputs": [],
   "source": [
    "# including max_features:\n",
    "# Accuracy:0.8102591409300675\n",
    "# Precision:0.7105263157894737\n",
    "# Recall:0.45949625595643295\n",
    "# F1:0.5580818520049607"
   ]
  },
  {
   "cell_type": "code",
   "execution_count": null,
   "id": "af5b4c82-1eef-4962-a4ca-b4337668de95",
   "metadata": {},
   "outputs": [],
   "source": [
    "#     'n_estimators': [100, 150, 200, 300], # 3 options\n",
    "\n",
    "#     'max_depth': [None, 3, 4, 5, 7],\n",
    "    \n",
    "#     'max_features':[5, 7]\n",
    "#     cv = 5\n",
    "# Accuracy:0.8267660631877884\n",
    "# Precision:0.717948717948718\n",
    "# Recall:0.5527569775357386\n",
    "# F1:0.6246153846153846"
   ]
  },
  {
   "cell_type": "code",
   "execution_count": null,
   "id": "033b1f34-aa5b-4d5b-822b-ee042f9c1991",
   "metadata": {},
   "outputs": [],
   "source": [
    "# {'criterion': 'gini',\n",
    "#  'max_depth': None,\n",
    "#  'min_samples_leaf': 5,\n",
    "#  'min_samples_split': 3,\n",
    "#  'n_estimators': 200}\n",
    "\n",
    "# Accuracy:0.8766418175363863\n",
    "# Precision:0.8302047781569966\n",
    "# Recall:0.6623553437712729\n",
    "# F1:0.7368421052631579"
   ]
  },
  {
   "cell_type": "code",
   "execution_count": null,
   "id": "3db7bae5-e8a2-450f-ac5b-7b3150c06710",
   "metadata": {},
   "outputs": [],
   "source": [
    "# {'criterion': 'entropy',\n",
    "#  'max_depth': None,\n",
    "#  'min_samples_leaf': 5,\n",
    "#  'min_samples_split': 3,\n",
    "#  'n_estimators': 175}\n",
    "\n",
    "# Accuracy:0.8780617678381256\n",
    "# Precision:0.8330494037478705\n",
    "# Recall:0.6657590197413207\n",
    "# F1:0.7400681044267877"
   ]
  },
  {
   "cell_type": "code",
   "execution_count": 554,
   "id": "897299c3-2c78-4c23-9c8a-9bad974433db",
   "metadata": {},
   "outputs": [
    {
     "name": "stdout",
     "output_type": "stream",
     "text": [
      "Accuracy:0.8125665601703941\n",
      "Precision:0.7117948717948718\n",
      "Recall:0.472430224642614\n",
      "F1:0.5679214402618658\n"
     ]
    },
    {
     "data": {
      "text/plain": [
       "(0.8125665601703941, 0.7117948717948718, 0.472430224642614, 0.5679214402618658)"
      ]
     },
     "execution_count": 554,
     "metadata": {},
     "output_type": "execute_result"
    }
   ],
   "source": [
    "apr(y_pred, y_train)"
   ]
  },
  {
   "cell_type": "code",
   "execution_count": 555,
   "id": "f5d8a7c9-5473-49f5-a8eb-014d78f0308d",
   "metadata": {},
   "outputs": [],
   "source": [
    "y_pred = best_rf.predict(X_test[['Senior Citizen', 'Partner', 'Dependents', 'Tenure Months',\n",
    "        'Online Security',  'Tech Support',\n",
    "       'Paperless Billing', 'Monthly Charges', 'Total Charges',\n",
    "       'IS_Fiber optic', 'IS_No', 'Con_One year', 'Con_Two year',\n",
    "       'Pay_Credit card (automatic)', 'Pay_Electronic check']])"
   ]
  },
  {
   "cell_type": "code",
   "execution_count": 556,
   "id": "13b8faae-3917-4a98-8db9-684e01904e10",
   "metadata": {},
   "outputs": [
    {
     "name": "stdout",
     "output_type": "stream",
     "text": [
      "Accuracy:0.7955997161107168\n",
      "Precision:0.7121212121212122\n",
      "Recall:0.47\n",
      "F1:0.5662650602409639\n"
     ]
    },
    {
     "data": {
      "text/plain": [
       "(0.7955997161107168, 0.7121212121212122, 0.47, 0.5662650602409639)"
      ]
     },
     "execution_count": 556,
     "metadata": {},
     "output_type": "execute_result"
    }
   ],
   "source": [
    "apr(y_pred, y_test)"
   ]
  },
  {
   "cell_type": "code",
   "execution_count": null,
   "id": "698155b7-2b74-4035-a8f9-0d34507ef414",
   "metadata": {},
   "outputs": [],
   "source": []
  },
  {
   "cell_type": "code",
   "execution_count": 40,
   "id": "52562a49-a7e8-40c0-9bc8-e534e8130309",
   "metadata": {},
   "outputs": [
    {
     "name": "stdout",
     "output_type": "stream",
     "text": [
      "[('Gender', 0.0025278080812622915), ('Senior Citizen', 0.006034382045082255), ('Partner', 0.004975319287202808), ('Dependents', 0.05679249393718682), ('Tenure Months', 0.157408687322887), ('Phone Service', 0.0034626814756349156), ('Multiple Lines', 0.006150404919922603), ('Online Security', 0.01652534118220345), ('Online Backup', 0.006199590518406234), ('Device Protection', 0.002604547610229848), ('Tech Support', 0.010677485914931973), ('Streaming TV', 0.005266908609296769), ('Streaming Movies', 0.005005280425194983), ('Paperless Billing', 0.019622169488879192), ('Monthly Charges', 0.08191732647270715), ('Total Charges', 0.10259363038905712), ('IS_DSL', 0.017294175696330072), ('IS_Fiber optic', 0.11410302034162298), ('IS_No', 0.027812459461876632), ('Con_Month-to-month', 0.1734529459887355), ('Con_One year', 0.020764933277937655), ('Con_Two year', 0.07890088453860253), ('Pay_Bank transfer (automatic)', 0.0019906851507555828), ('Pay_Credit card (automatic)', 0.004257974410412748), ('Pay_Electronic check', 0.07097121417013919), ('Pay_Mailed check', 0.0026876492835016356)]\n"
     ]
    }
   ],
   "source": [
    "print(list(zip(X_train.columns, best_rf.feature_importances_)))"
   ]
  },
  {
   "cell_type": "code",
   "execution_count": null,
   "id": "cc85a3ab-4161-4e8a-b37c-d7db64029c52",
   "metadata": {},
   "outputs": [],
   "source": [
    "#logistoc reg"
   ]
  },
  {
   "cell_type": "code",
   "execution_count": 119,
   "id": "4d815f95-c8eb-40b5-8f6f-f0191c3505b4",
   "metadata": {},
   "outputs": [],
   "source": [
    "# feature_cols = ['Gender', 'Senior Citizen', 'Partner', 'Dependents', 'Tenure Months',\n",
    "#        'Phone Service', 'Multiple Lines', 'Online Security', 'Online Backup',\n",
    "#        'Device Protection', 'Tech Support', 'Streaming TV', 'Streaming Movies',\n",
    "#        'Paperless Billing', 'Monthly Charges', 'Total Charges',\n",
    "#        'IS_DSL', 'IS_Fiber optic', 'IS_No', 'Con_Month-to-month',\n",
    "#        'Con_One year', 'Con_Two year', 'Pay_Bank transfer (automatic)',\n",
    "#        'Pay_Credit card (automatic)', 'Pay_Electronic check',\n",
    "#        'Pay_Mailed check']\n",
    "\n",
    "df_x = df.drop('Churn Value', axis = 1)\n",
    "X_train, X_test, y_train, y_test = train_test_split(df_x, df['Churn Value'], test_size = 0.2, random_state = 42)"
   ]
  },
  {
   "cell_type": "code",
   "execution_count": 73,
   "id": "34223b65-390c-42fd-9757-89cbd66878ee",
   "metadata": {},
   "outputs": [
    {
     "data": {
      "text/html": [
       "<div>\n",
       "<style scoped>\n",
       "    .dataframe tbody tr th:only-of-type {\n",
       "        vertical-align: middle;\n",
       "    }\n",
       "\n",
       "    .dataframe tbody tr th {\n",
       "        vertical-align: top;\n",
       "    }\n",
       "\n",
       "    .dataframe thead th {\n",
       "        text-align: right;\n",
       "    }\n",
       "</style>\n",
       "<table border=\"1\" class=\"dataframe\">\n",
       "  <thead>\n",
       "    <tr style=\"text-align: right;\">\n",
       "      <th></th>\n",
       "      <th>CustomerID</th>\n",
       "      <th>Count</th>\n",
       "      <th>Country</th>\n",
       "      <th>State</th>\n",
       "      <th>City</th>\n",
       "      <th>Zip Code</th>\n",
       "      <th>Lat Long</th>\n",
       "      <th>Latitude</th>\n",
       "      <th>Longitude</th>\n",
       "      <th>Gender</th>\n",
       "      <th>...</th>\n",
       "      <th>Tech Support</th>\n",
       "      <th>Streaming TV</th>\n",
       "      <th>Streaming Movies</th>\n",
       "      <th>Contract</th>\n",
       "      <th>Paperless Billing</th>\n",
       "      <th>Payment Method</th>\n",
       "      <th>Monthly Charges</th>\n",
       "      <th>Total Charges</th>\n",
       "      <th>Churn Label</th>\n",
       "      <th>Churn Reason</th>\n",
       "    </tr>\n",
       "  </thead>\n",
       "  <tbody>\n",
       "    <tr>\n",
       "      <th>0</th>\n",
       "      <td>3668-QPYBK</td>\n",
       "      <td>1</td>\n",
       "      <td>United States</td>\n",
       "      <td>California</td>\n",
       "      <td>Los Angeles</td>\n",
       "      <td>90003</td>\n",
       "      <td>33.964131, -118.272783</td>\n",
       "      <td>33.964131</td>\n",
       "      <td>-118.272783</td>\n",
       "      <td>Male</td>\n",
       "      <td>...</td>\n",
       "      <td>No</td>\n",
       "      <td>No</td>\n",
       "      <td>No</td>\n",
       "      <td>Month-to-month</td>\n",
       "      <td>Yes</td>\n",
       "      <td>Mailed check</td>\n",
       "      <td>53.85</td>\n",
       "      <td>108.15</td>\n",
       "      <td>Yes</td>\n",
       "      <td>Competitor made better offer</td>\n",
       "    </tr>\n",
       "    <tr>\n",
       "      <th>1</th>\n",
       "      <td>9237-HQITU</td>\n",
       "      <td>1</td>\n",
       "      <td>United States</td>\n",
       "      <td>California</td>\n",
       "      <td>Los Angeles</td>\n",
       "      <td>90005</td>\n",
       "      <td>34.059281, -118.30742</td>\n",
       "      <td>34.059281</td>\n",
       "      <td>-118.307420</td>\n",
       "      <td>Female</td>\n",
       "      <td>...</td>\n",
       "      <td>No</td>\n",
       "      <td>No</td>\n",
       "      <td>No</td>\n",
       "      <td>Month-to-month</td>\n",
       "      <td>Yes</td>\n",
       "      <td>Electronic check</td>\n",
       "      <td>70.70</td>\n",
       "      <td>151.65</td>\n",
       "      <td>Yes</td>\n",
       "      <td>Moved</td>\n",
       "    </tr>\n",
       "    <tr>\n",
       "      <th>2</th>\n",
       "      <td>9305-CDSKC</td>\n",
       "      <td>1</td>\n",
       "      <td>United States</td>\n",
       "      <td>California</td>\n",
       "      <td>Los Angeles</td>\n",
       "      <td>90006</td>\n",
       "      <td>34.048013, -118.293953</td>\n",
       "      <td>34.048013</td>\n",
       "      <td>-118.293953</td>\n",
       "      <td>Female</td>\n",
       "      <td>...</td>\n",
       "      <td>No</td>\n",
       "      <td>Yes</td>\n",
       "      <td>Yes</td>\n",
       "      <td>Month-to-month</td>\n",
       "      <td>Yes</td>\n",
       "      <td>Electronic check</td>\n",
       "      <td>99.65</td>\n",
       "      <td>820.5</td>\n",
       "      <td>Yes</td>\n",
       "      <td>Moved</td>\n",
       "    </tr>\n",
       "    <tr>\n",
       "      <th>3</th>\n",
       "      <td>7892-POOKP</td>\n",
       "      <td>1</td>\n",
       "      <td>United States</td>\n",
       "      <td>California</td>\n",
       "      <td>Los Angeles</td>\n",
       "      <td>90010</td>\n",
       "      <td>34.062125, -118.315709</td>\n",
       "      <td>34.062125</td>\n",
       "      <td>-118.315709</td>\n",
       "      <td>Female</td>\n",
       "      <td>...</td>\n",
       "      <td>Yes</td>\n",
       "      <td>Yes</td>\n",
       "      <td>Yes</td>\n",
       "      <td>Month-to-month</td>\n",
       "      <td>Yes</td>\n",
       "      <td>Electronic check</td>\n",
       "      <td>104.80</td>\n",
       "      <td>3046.05</td>\n",
       "      <td>Yes</td>\n",
       "      <td>Moved</td>\n",
       "    </tr>\n",
       "    <tr>\n",
       "      <th>4</th>\n",
       "      <td>0280-XJGEX</td>\n",
       "      <td>1</td>\n",
       "      <td>United States</td>\n",
       "      <td>California</td>\n",
       "      <td>Los Angeles</td>\n",
       "      <td>90015</td>\n",
       "      <td>34.039224, -118.266293</td>\n",
       "      <td>34.039224</td>\n",
       "      <td>-118.266293</td>\n",
       "      <td>Male</td>\n",
       "      <td>...</td>\n",
       "      <td>No</td>\n",
       "      <td>Yes</td>\n",
       "      <td>Yes</td>\n",
       "      <td>Month-to-month</td>\n",
       "      <td>Yes</td>\n",
       "      <td>Bank transfer (automatic)</td>\n",
       "      <td>103.70</td>\n",
       "      <td>5036.3</td>\n",
       "      <td>Yes</td>\n",
       "      <td>Competitor had better devices</td>\n",
       "    </tr>\n",
       "  </tbody>\n",
       "</table>\n",
       "<p>5 rows × 30 columns</p>\n",
       "</div>"
      ],
      "text/plain": [
       "   CustomerID  Count        Country       State         City  Zip Code  \\\n",
       "0  3668-QPYBK      1  United States  California  Los Angeles     90003   \n",
       "1  9237-HQITU      1  United States  California  Los Angeles     90005   \n",
       "2  9305-CDSKC      1  United States  California  Los Angeles     90006   \n",
       "3  7892-POOKP      1  United States  California  Los Angeles     90010   \n",
       "4  0280-XJGEX      1  United States  California  Los Angeles     90015   \n",
       "\n",
       "                 Lat Long   Latitude   Longitude  Gender  ... Tech Support  \\\n",
       "0  33.964131, -118.272783  33.964131 -118.272783    Male  ...           No   \n",
       "1   34.059281, -118.30742  34.059281 -118.307420  Female  ...           No   \n",
       "2  34.048013, -118.293953  34.048013 -118.293953  Female  ...           No   \n",
       "3  34.062125, -118.315709  34.062125 -118.315709  Female  ...          Yes   \n",
       "4  34.039224, -118.266293  34.039224 -118.266293    Male  ...           No   \n",
       "\n",
       "  Streaming TV Streaming Movies        Contract Paperless Billing  \\\n",
       "0           No               No  Month-to-month               Yes   \n",
       "1           No               No  Month-to-month               Yes   \n",
       "2          Yes              Yes  Month-to-month               Yes   \n",
       "3          Yes              Yes  Month-to-month               Yes   \n",
       "4          Yes              Yes  Month-to-month               Yes   \n",
       "\n",
       "              Payment Method Monthly Charges Total Charges Churn Label  \\\n",
       "0               Mailed check           53.85        108.15         Yes   \n",
       "1           Electronic check           70.70        151.65         Yes   \n",
       "2           Electronic check           99.65         820.5         Yes   \n",
       "3           Electronic check          104.80       3046.05         Yes   \n",
       "4  Bank transfer (automatic)          103.70        5036.3         Yes   \n",
       "\n",
       "                    Churn Reason  \n",
       "0   Competitor made better offer  \n",
       "1                          Moved  \n",
       "2                          Moved  \n",
       "3                          Moved  \n",
       "4  Competitor had better devices  \n",
       "\n",
       "[5 rows x 30 columns]"
      ]
     },
     "execution_count": 73,
     "metadata": {},
     "output_type": "execute_result"
    }
   ],
   "source": [
    "df_x.head()"
   ]
  },
  {
   "cell_type": "code",
   "execution_count": 120,
   "id": "76fa9c8b-b685-4b2d-b79a-c4773befe40a",
   "metadata": {},
   "outputs": [],
   "source": [
    "def feature_eng(dataframe):\n",
    "    \n",
    "    # Make a copy of dataframe\n",
    "    df = dataframe.copy()\n",
    "    \n",
    "    ##### Mapping columns #######\n",
    "    # list of columns with yes's and no's\n",
    "    yn_cols = ['Senior Citizen','Partner','Dependents','Phone Service','Multiple Lines','Online Security',\n",
    "             'Online Backup','Device Protection','Tech Support','Streaming TV','Streaming Movies',\n",
    "             'Paperless Billing']\n",
    "    # mapping these columns\n",
    "    for col in yn_cols:\n",
    "        df[f'{col}'] = df[f'{col}'].map({'No':0, 'Yes':1, 'No phone service':0, 'No internet service':0, 0:0})\n",
    "        df[f'{col}'].astype(int)\n",
    "    # mapping gender column\n",
    "    df['Gender'] = df['Gender'].map({'Male':0, 'Female': 1})\n",
    "    \n",
    "    ###### Drop Columns #########\n",
    "    df.drop(['CustomerID', 'Count', 'Country', 'State', 'City', 'Zip Code',\n",
    "            'Lat Long', 'Latitude', 'Longitude', 'Churn Label', 'Churn Reason'], axis = 1, inplace = True)\n",
    "    \n",
    "    ###### OHE ###############\n",
    "    df = pd.get_dummies(data = df, columns = ['Internet Service'], prefix='IS', drop_first=False, dtype = int)\n",
    "    df = pd.get_dummies(data = df, columns = ['Contract'], prefix='Con', drop_first=False, dtype = int)\n",
    "    df = pd.get_dummies(data = df, columns = ['Payment Method'], prefix='Pay', drop_first=False, dtype = int)\n",
    "    \n",
    "    # Churn Reason has nulls\n",
    "#     df['Churn Reason'] = df['Churn Reason'].fillna(value = 'None')\n",
    "#   df = pd.get_dummies(data = df, columns = ['Churn Reason'], prefix='Reason', drop_first=True, dtype = int)\n",
    "\n",
    "    \n",
    "    ##### Target Columns - hidden nulls in diguise \n",
    "    df['Total Charges'] = pd.to_numeric(df['Total Charges'], errors='coerce')\n",
    "\n",
    "    # Fills nulls with zeros \n",
    "    df['Total Charges'] = df['Total Charges'].fillna(value = 0)\n",
    "    \n",
    "    return df"
   ]
  },
  {
   "cell_type": "code",
   "execution_count": 121,
   "id": "c5b2659d-9e95-4002-b4ae-76788b184ed9",
   "metadata": {},
   "outputs": [],
   "source": [
    "X_train_fe = feature_eng(X_train)"
   ]
  },
  {
   "cell_type": "code",
   "execution_count": 122,
   "id": "906a4534-9ce0-4f2b-b551-7e32d0928c51",
   "metadata": {},
   "outputs": [],
   "source": [
    "lr = LogisticRegression(max_iter=300, random_state=10)"
   ]
  },
  {
   "cell_type": "code",
   "execution_count": 123,
   "id": "a2776eb3-21e9-449b-9d82-30c21243aecf",
   "metadata": {},
   "outputs": [
    {
     "data": {
      "text/plain": [
       "LogisticRegression(max_iter=300, random_state=10)"
      ]
     },
     "execution_count": 123,
     "metadata": {},
     "output_type": "execute_result"
    }
   ],
   "source": [
    "lr.fit(X_train_fe, y_train)"
   ]
  },
  {
   "cell_type": "code",
   "execution_count": 124,
   "id": "0d4719fb-c317-461e-afdb-e79d97c8a8c4",
   "metadata": {},
   "outputs": [],
   "source": [
    "X_train_fe[['prob_stay', 'prob_churn']] = lr.predict_proba(X_train_fe)"
   ]
  },
  {
   "cell_type": "code",
   "execution_count": 95,
   "id": "0178bd6f-8d30-4ab9-b392-ff097f893aac",
   "metadata": {},
   "outputs": [
    {
     "data": {
      "text/html": [
       "<div>\n",
       "<style scoped>\n",
       "    .dataframe tbody tr th:only-of-type {\n",
       "        vertical-align: middle;\n",
       "    }\n",
       "\n",
       "    .dataframe tbody tr th {\n",
       "        vertical-align: top;\n",
       "    }\n",
       "\n",
       "    .dataframe thead th {\n",
       "        text-align: right;\n",
       "    }\n",
       "</style>\n",
       "<table border=\"1\" class=\"dataframe\">\n",
       "  <thead>\n",
       "    <tr style=\"text-align: right;\">\n",
       "      <th></th>\n",
       "      <th>Gender</th>\n",
       "      <th>Senior Citizen</th>\n",
       "      <th>Partner</th>\n",
       "      <th>Dependents</th>\n",
       "      <th>Tenure Months</th>\n",
       "      <th>Phone Service</th>\n",
       "      <th>Multiple Lines</th>\n",
       "      <th>Online Security</th>\n",
       "      <th>Online Backup</th>\n",
       "      <th>Device Protection</th>\n",
       "      <th>...</th>\n",
       "      <th>IS_Fiber optic</th>\n",
       "      <th>IS_No</th>\n",
       "      <th>Con_One year</th>\n",
       "      <th>Con_Two year</th>\n",
       "      <th>Pay_Credit card (automatic)</th>\n",
       "      <th>Pay_Electronic check</th>\n",
       "      <th>Pay_Mailed check</th>\n",
       "      <th>prob_stay</th>\n",
       "      <th>prob_churn</th>\n",
       "      <th>y_pred</th>\n",
       "    </tr>\n",
       "  </thead>\n",
       "  <tbody>\n",
       "    <tr>\n",
       "      <th>2142</th>\n",
       "      <td>0</td>\n",
       "      <td>0</td>\n",
       "      <td>1</td>\n",
       "      <td>0</td>\n",
       "      <td>71</td>\n",
       "      <td>1</td>\n",
       "      <td>1</td>\n",
       "      <td>0</td>\n",
       "      <td>0</td>\n",
       "      <td>1</td>\n",
       "      <td>...</td>\n",
       "      <td>1</td>\n",
       "      <td>0</td>\n",
       "      <td>1</td>\n",
       "      <td>0</td>\n",
       "      <td>1</td>\n",
       "      <td>0</td>\n",
       "      <td>0</td>\n",
       "      <td>0.814387</td>\n",
       "      <td>0.185613</td>\n",
       "      <td>0</td>\n",
       "    </tr>\n",
       "    <tr>\n",
       "      <th>1623</th>\n",
       "      <td>1</td>\n",
       "      <td>0</td>\n",
       "      <td>0</td>\n",
       "      <td>0</td>\n",
       "      <td>16</td>\n",
       "      <td>1</td>\n",
       "      <td>0</td>\n",
       "      <td>0</td>\n",
       "      <td>1</td>\n",
       "      <td>1</td>\n",
       "      <td>...</td>\n",
       "      <td>1</td>\n",
       "      <td>0</td>\n",
       "      <td>0</td>\n",
       "      <td>0</td>\n",
       "      <td>1</td>\n",
       "      <td>0</td>\n",
       "      <td>0</td>\n",
       "      <td>0.469827</td>\n",
       "      <td>0.530173</td>\n",
       "      <td>1</td>\n",
       "    </tr>\n",
       "    <tr>\n",
       "      <th>6074</th>\n",
       "      <td>1</td>\n",
       "      <td>0</td>\n",
       "      <td>0</td>\n",
       "      <td>0</td>\n",
       "      <td>32</td>\n",
       "      <td>1</td>\n",
       "      <td>1</td>\n",
       "      <td>0</td>\n",
       "      <td>1</td>\n",
       "      <td>1</td>\n",
       "      <td>...</td>\n",
       "      <td>1</td>\n",
       "      <td>0</td>\n",
       "      <td>1</td>\n",
       "      <td>0</td>\n",
       "      <td>1</td>\n",
       "      <td>0</td>\n",
       "      <td>0</td>\n",
       "      <td>0.587713</td>\n",
       "      <td>0.412287</td>\n",
       "      <td>0</td>\n",
       "    </tr>\n",
       "    <tr>\n",
       "      <th>1362</th>\n",
       "      <td>1</td>\n",
       "      <td>1</td>\n",
       "      <td>1</td>\n",
       "      <td>0</td>\n",
       "      <td>24</td>\n",
       "      <td>0</td>\n",
       "      <td>0</td>\n",
       "      <td>0</td>\n",
       "      <td>0</td>\n",
       "      <td>1</td>\n",
       "      <td>...</td>\n",
       "      <td>0</td>\n",
       "      <td>0</td>\n",
       "      <td>0</td>\n",
       "      <td>0</td>\n",
       "      <td>1</td>\n",
       "      <td>0</td>\n",
       "      <td>0</td>\n",
       "      <td>0.574058</td>\n",
       "      <td>0.425942</td>\n",
       "      <td>0</td>\n",
       "    </tr>\n",
       "    <tr>\n",
       "      <th>6754</th>\n",
       "      <td>1</td>\n",
       "      <td>0</td>\n",
       "      <td>1</td>\n",
       "      <td>1</td>\n",
       "      <td>20</td>\n",
       "      <td>1</td>\n",
       "      <td>0</td>\n",
       "      <td>0</td>\n",
       "      <td>0</td>\n",
       "      <td>0</td>\n",
       "      <td>...</td>\n",
       "      <td>0</td>\n",
       "      <td>1</td>\n",
       "      <td>0</td>\n",
       "      <td>0</td>\n",
       "      <td>0</td>\n",
       "      <td>0</td>\n",
       "      <td>1</td>\n",
       "      <td>0.973452</td>\n",
       "      <td>0.026548</td>\n",
       "      <td>0</td>\n",
       "    </tr>\n",
       "    <tr>\n",
       "      <th>1212</th>\n",
       "      <td>1</td>\n",
       "      <td>0</td>\n",
       "      <td>0</td>\n",
       "      <td>0</td>\n",
       "      <td>2</td>\n",
       "      <td>1</td>\n",
       "      <td>1</td>\n",
       "      <td>0</td>\n",
       "      <td>0</td>\n",
       "      <td>0</td>\n",
       "      <td>...</td>\n",
       "      <td>1</td>\n",
       "      <td>0</td>\n",
       "      <td>0</td>\n",
       "      <td>0</td>\n",
       "      <td>0</td>\n",
       "      <td>1</td>\n",
       "      <td>0</td>\n",
       "      <td>0.233862</td>\n",
       "      <td>0.766138</td>\n",
       "      <td>1</td>\n",
       "    </tr>\n",
       "    <tr>\n",
       "      <th>2722</th>\n",
       "      <td>1</td>\n",
       "      <td>0</td>\n",
       "      <td>1</td>\n",
       "      <td>0</td>\n",
       "      <td>52</td>\n",
       "      <td>1</td>\n",
       "      <td>0</td>\n",
       "      <td>1</td>\n",
       "      <td>0</td>\n",
       "      <td>1</td>\n",
       "      <td>...</td>\n",
       "      <td>0</td>\n",
       "      <td>0</td>\n",
       "      <td>1</td>\n",
       "      <td>0</td>\n",
       "      <td>0</td>\n",
       "      <td>0</td>\n",
       "      <td>1</td>\n",
       "      <td>0.929582</td>\n",
       "      <td>0.070418</td>\n",
       "      <td>0</td>\n",
       "    </tr>\n",
       "    <tr>\n",
       "      <th>4006</th>\n",
       "      <td>1</td>\n",
       "      <td>0</td>\n",
       "      <td>1</td>\n",
       "      <td>0</td>\n",
       "      <td>37</td>\n",
       "      <td>1</td>\n",
       "      <td>0</td>\n",
       "      <td>0</td>\n",
       "      <td>0</td>\n",
       "      <td>0</td>\n",
       "      <td>...</td>\n",
       "      <td>0</td>\n",
       "      <td>1</td>\n",
       "      <td>1</td>\n",
       "      <td>0</td>\n",
       "      <td>0</td>\n",
       "      <td>0</td>\n",
       "      <td>0</td>\n",
       "      <td>0.957290</td>\n",
       "      <td>0.042710</td>\n",
       "      <td>0</td>\n",
       "    </tr>\n",
       "    <tr>\n",
       "      <th>6791</th>\n",
       "      <td>1</td>\n",
       "      <td>0</td>\n",
       "      <td>0</td>\n",
       "      <td>0</td>\n",
       "      <td>41</td>\n",
       "      <td>1</td>\n",
       "      <td>1</td>\n",
       "      <td>1</td>\n",
       "      <td>0</td>\n",
       "      <td>1</td>\n",
       "      <td>...</td>\n",
       "      <td>0</td>\n",
       "      <td>0</td>\n",
       "      <td>0</td>\n",
       "      <td>0</td>\n",
       "      <td>0</td>\n",
       "      <td>0</td>\n",
       "      <td>0</td>\n",
       "      <td>0.880530</td>\n",
       "      <td>0.119470</td>\n",
       "      <td>0</td>\n",
       "    </tr>\n",
       "    <tr>\n",
       "      <th>5466</th>\n",
       "      <td>0</td>\n",
       "      <td>0</td>\n",
       "      <td>1</td>\n",
       "      <td>1</td>\n",
       "      <td>58</td>\n",
       "      <td>1</td>\n",
       "      <td>0</td>\n",
       "      <td>0</td>\n",
       "      <td>1</td>\n",
       "      <td>0</td>\n",
       "      <td>...</td>\n",
       "      <td>0</td>\n",
       "      <td>0</td>\n",
       "      <td>1</td>\n",
       "      <td>0</td>\n",
       "      <td>1</td>\n",
       "      <td>0</td>\n",
       "      <td>0</td>\n",
       "      <td>0.986746</td>\n",
       "      <td>0.013254</td>\n",
       "      <td>0</td>\n",
       "    </tr>\n",
       "  </tbody>\n",
       "</table>\n",
       "<p>10 rows × 26 columns</p>\n",
       "</div>"
      ],
      "text/plain": [
       "      Gender  Senior Citizen  Partner  Dependents  Tenure Months  \\\n",
       "2142       0               0        1           0             71   \n",
       "1623       1               0        0           0             16   \n",
       "6074       1               0        0           0             32   \n",
       "1362       1               1        1           0             24   \n",
       "6754       1               0        1           1             20   \n",
       "1212       1               0        0           0              2   \n",
       "2722       1               0        1           0             52   \n",
       "4006       1               0        1           0             37   \n",
       "6791       1               0        0           0             41   \n",
       "5466       0               0        1           1             58   \n",
       "\n",
       "      Phone Service  Multiple Lines  Online Security  Online Backup  \\\n",
       "2142              1               1                0              0   \n",
       "1623              1               0                0              1   \n",
       "6074              1               1                0              1   \n",
       "1362              0               0                0              0   \n",
       "6754              1               0                0              0   \n",
       "1212              1               1                0              0   \n",
       "2722              1               0                1              0   \n",
       "4006              1               0                0              0   \n",
       "6791              1               1                1              0   \n",
       "5466              1               0                0              1   \n",
       "\n",
       "      Device Protection  ...  IS_Fiber optic  IS_No  Con_One year  \\\n",
       "2142                  1  ...               1      0             1   \n",
       "1623                  1  ...               1      0             0   \n",
       "6074                  1  ...               1      0             1   \n",
       "1362                  1  ...               0      0             0   \n",
       "6754                  0  ...               0      1             0   \n",
       "1212                  0  ...               1      0             0   \n",
       "2722                  1  ...               0      0             1   \n",
       "4006                  0  ...               0      1             1   \n",
       "6791                  1  ...               0      0             0   \n",
       "5466                  0  ...               0      0             1   \n",
       "\n",
       "      Con_Two year  Pay_Credit card (automatic)  Pay_Electronic check  \\\n",
       "2142             0                            1                     0   \n",
       "1623             0                            1                     0   \n",
       "6074             0                            1                     0   \n",
       "1362             0                            1                     0   \n",
       "6754             0                            0                     0   \n",
       "1212             0                            0                     1   \n",
       "2722             0                            0                     0   \n",
       "4006             0                            0                     0   \n",
       "6791             0                            0                     0   \n",
       "5466             0                            1                     0   \n",
       "\n",
       "      Pay_Mailed check  prob_stay  prob_churn  y_pred  \n",
       "2142                 0   0.814387    0.185613       0  \n",
       "1623                 0   0.469827    0.530173       1  \n",
       "6074                 0   0.587713    0.412287       0  \n",
       "1362                 0   0.574058    0.425942       0  \n",
       "6754                 1   0.973452    0.026548       0  \n",
       "1212                 0   0.233862    0.766138       1  \n",
       "2722                 1   0.929582    0.070418       0  \n",
       "4006                 0   0.957290    0.042710       0  \n",
       "6791                 0   0.880530    0.119470       0  \n",
       "5466                 0   0.986746    0.013254       0  \n",
       "\n",
       "[10 rows x 26 columns]"
      ]
     },
     "execution_count": 95,
     "metadata": {},
     "output_type": "execute_result"
    }
   ],
   "source": [
    "X_train_fe.head(10)"
   ]
  },
  {
   "cell_type": "code",
   "execution_count": 125,
   "id": "0f31103d-f9dd-49ce-a397-3c9210c04ee9",
   "metadata": {},
   "outputs": [],
   "source": [
    "X_train_fe['y_pred'] = np.where(X_train_fe['prob_churn']>.5, 1, 0)"
   ]
  },
  {
   "cell_type": "code",
   "execution_count": 126,
   "id": "2d97615b-363b-45ca-b501-67b59d2a3989",
   "metadata": {},
   "outputs": [
    {
     "name": "stdout",
     "output_type": "stream",
     "text": [
      "[[3739  426]\n",
      " [ 619  850]]\n"
     ]
    }
   ],
   "source": [
    "print(metrics.confusion_matrix(y_train, X_train_fe['y_pred']))"
   ]
  },
  {
   "cell_type": "code",
   "execution_count": 127,
   "id": "eadc36de-68a9-4ed0-bc88-08e2e5ce214a",
   "metadata": {},
   "outputs": [],
   "source": [
    "def get_results(actual, predicted):\n",
    "    print(\"The confusion matrix for your predictions is:\")\n",
    "    print(metrics.confusion_matrix(actual, predicted), \"\\n\")\n",
    "    print(f'The accuracy of your model is: {metrics.accuracy_score(actual, predicted)}')\n",
    "    print(f'The recall of your model is: {metrics.recall_score(actual, predicted)}')\n",
    "    print(f'The precision of your model is: {metrics.precision_score(actual, predicted)}')\n",
    "    print(f'The F1-score of your model is: {metrics.f1_score(actual, predicted)}')"
   ]
  },
  {
   "cell_type": "code",
   "execution_count": 128,
   "id": "91c5154c-00c9-40dd-a667-0a51110cc52a",
   "metadata": {},
   "outputs": [
    {
     "name": "stdout",
     "output_type": "stream",
     "text": [
      "The confusion matrix for your predictions is:\n",
      "[[3739  426]\n",
      " [ 619  850]] \n",
      "\n",
      "The accuracy of your model is: 0.8145189918352858\n",
      "The recall of your model is: 0.5786249149081008\n",
      "The precision of your model is: 0.6661442006269592\n",
      "The F1-score of your model is: 0.6193078324225865\n"
     ]
    }
   ],
   "source": [
    "get_results(y_train, X_train_fe['y_pred'])"
   ]
  },
  {
   "cell_type": "code",
   "execution_count": 129,
   "id": "8d3899af-9446-4fea-902b-8b64d5a99f5f",
   "metadata": {},
   "outputs": [],
   "source": [
    "X_test_fe = feature_eng(X_test)"
   ]
  },
  {
   "cell_type": "code",
   "execution_count": null,
   "id": "3737f6c5-8564-44d1-90a5-b4309977eb28",
   "metadata": {},
   "outputs": [],
   "source": []
  },
  {
   "cell_type": "code",
   "execution_count": 130,
   "id": "e5461909-7c2e-4bcf-8321-064683098346",
   "metadata": {},
   "outputs": [],
   "source": [
    "X_test_fe[['prob_stay', 'prob_churn']] = lr.predict_proba(X_test_fe)"
   ]
  },
  {
   "cell_type": "code",
   "execution_count": 131,
   "id": "a61daf5d-6ac4-4444-91fc-6b7409cd9f10",
   "metadata": {},
   "outputs": [],
   "source": [
    "X_test_fe['y_pred'] = np.where(X_test_fe['prob_churn']>.5, 1, 0)"
   ]
  },
  {
   "cell_type": "code",
   "execution_count": 132,
   "id": "9446c788-ea91-4af2-84a6-cd9fa346d7b7",
   "metadata": {},
   "outputs": [
    {
     "name": "stdout",
     "output_type": "stream",
     "text": [
      "The confusion matrix for your predictions is:\n",
      "[[896 113]\n",
      " [169 231]] \n",
      "\n",
      "The accuracy of your model is: 0.7998580553584103\n",
      "The recall of your model is: 0.5775\n",
      "The precision of your model is: 0.6715116279069767\n",
      "The F1-score of your model is: 0.6209677419354839\n"
     ]
    }
   ],
   "source": [
    "get_results(y_test, X_test_fe['y_pred'])"
   ]
  },
  {
   "cell_type": "code",
   "execution_count": 133,
   "id": "e9818d45-07ec-4c19-aea2-604fe7d81e01",
   "metadata": {},
   "outputs": [
    {
     "name": "stdout",
     "output_type": "stream",
     "text": [
      "[('Gender', 0.0801336364940116), ('Senior Citizen', 0.2925718227009908), ('Partner', 0.07778172954942364), ('Dependents', -1.0641045857206994), ('Tenure Months', -0.07208557458558003), ('Phone Service', -0.6148800522358479), ('Multiple Lines', 0.2345544921410788), ('Online Security', -0.4629035757862017), ('Online Backup', -0.11442313899865074), ('Device Protection', -0.0333713206103921), ('Tech Support', -0.4533874061389644), ('Streaming TV', 0.1254250511974633), ('Streaming Movies', 0.08418737071956245), ('Paperless Billing', 0.5193741892720122), ('Monthly Charges', 0.004820219669800274), ('Total Charges', 0.0004329850006932035), ('IS_DSL', 0.0024327226663622982), ('IS_Fiber optic', 0.29042758676620367), ('IS_No', -0.611263185514758), ('Con_Month-to-month', 0.5020649623366469), ('Con_One year', -0.2669256638948719), ('Con_Two year', -0.5535421745238508), ('Pay_Bank transfer (automatic)', -0.08171587766235824), ('Pay_Credit card (automatic)', -0.22654284254194593), ('Pay_Electronic check', 0.24879959515388694), ('Pay_Mailed check', -0.25894375103134615)]\n"
     ]
    }
   ],
   "source": [
    "print(list(zip(X_train_fe.columns, lr.coef_[0])))"
   ]
  },
  {
   "cell_type": "code",
   "execution_count": 135,
   "id": "e96fec09-3dc0-42a8-975b-66251c5f4e3d",
   "metadata": {},
   "outputs": [
    {
     "data": {
      "text/plain": [
       "[('Paperless Billing', 0.5193741892720122),\n",
       " ('Con_Month-to-month', 0.5020649623366469),\n",
       " ('Senior Citizen', 0.2925718227009908),\n",
       " ('IS_Fiber optic', 0.29042758676620367),\n",
       " ('Pay_Electronic check', 0.24879959515388694),\n",
       " ('Multiple Lines', 0.2345544921410788),\n",
       " ('Streaming TV', 0.1254250511974633),\n",
       " ('Streaming Movies', 0.08418737071956245),\n",
       " ('Gender', 0.0801336364940116),\n",
       " ('Partner', 0.07778172954942364),\n",
       " ('Monthly Charges', 0.004820219669800274),\n",
       " ('IS_DSL', 0.0024327226663622982),\n",
       " ('Total Charges', 0.0004329850006932035),\n",
       " ('Device Protection', -0.0333713206103921),\n",
       " ('Tenure Months', -0.07208557458558003),\n",
       " ('Pay_Bank transfer (automatic)', -0.08171587766235824),\n",
       " ('Online Backup', -0.11442313899865074),\n",
       " ('Pay_Credit card (automatic)', -0.22654284254194593),\n",
       " ('Pay_Mailed check', -0.25894375103134615),\n",
       " ('Con_One year', -0.2669256638948719),\n",
       " ('Tech Support', -0.4533874061389644),\n",
       " ('Online Security', -0.4629035757862017),\n",
       " ('Con_Two year', -0.5535421745238508),\n",
       " ('IS_No', -0.611263185514758),\n",
       " ('Phone Service', -0.6148800522358479),\n",
       " ('Dependents', -1.0641045857206994)]"
      ]
     },
     "execution_count": 135,
     "metadata": {},
     "output_type": "execute_result"
    }
   ],
   "source": [
    "sorted(list(zip(X_train_fe.columns, lr.coef_[0])), key = lambda x: x[1], reverse = True)"
   ]
  },
  {
   "cell_type": "code",
   "execution_count": 139,
   "id": "9985db99-01f3-46dd-a9ca-76a0c9bb191e",
   "metadata": {},
   "outputs": [
    {
     "data": {
      "image/png": "[encoded data removed]",
      "text/plain": [
       "<Figure size 428.75x360 with 1 Axes>"
      ]
     },
     "metadata": {
      "needs_background": "light"
     },
     "output_type": "display_data"
    }
   ],
   "source": [
    "sns.displot(data=df, x='Contract', hue='Churn Value', kind='hist',  palette='viridis')\n",
    "plt.title('Distribution Plot of Contract Type and Churn')\n",
    "plt.xlabel('Contract')\n",
    "plt.ylabel('Frequency')\n",
    "plt.show()"
   ]
  },
  {
   "cell_type": "code",
   "execution_count": 136,
   "id": "c75c6f67-c906-4f9b-85b4-193c0eb1344d",
   "metadata": {},
   "outputs": [
    {
     "data": {
      "text/html": [
       "<div>\n",
       "<style scoped>\n",
       "    .dataframe tbody tr th:only-of-type {\n",
       "        vertical-align: middle;\n",
       "    }\n",
       "\n",
       "    .dataframe tbody tr th {\n",
       "        vertical-align: top;\n",
       "    }\n",
       "\n",
       "    .dataframe thead th {\n",
       "        text-align: right;\n",
       "    }\n",
       "</style>\n",
       "<table border=\"1\" class=\"dataframe\">\n",
       "  <thead>\n",
       "    <tr style=\"text-align: right;\">\n",
       "      <th></th>\n",
       "      <th>CustomerID</th>\n",
       "      <th>Count</th>\n",
       "      <th>Country</th>\n",
       "      <th>State</th>\n",
       "      <th>City</th>\n",
       "      <th>Zip Code</th>\n",
       "      <th>Lat Long</th>\n",
       "      <th>Latitude</th>\n",
       "      <th>Longitude</th>\n",
       "      <th>Gender</th>\n",
       "      <th>...</th>\n",
       "      <th>Streaming TV</th>\n",
       "      <th>Streaming Movies</th>\n",
       "      <th>Contract</th>\n",
       "      <th>Paperless Billing</th>\n",
       "      <th>Payment Method</th>\n",
       "      <th>Monthly Charges</th>\n",
       "      <th>Total Charges</th>\n",
       "      <th>Churn Label</th>\n",
       "      <th>Churn Value</th>\n",
       "      <th>Churn Reason</th>\n",
       "    </tr>\n",
       "  </thead>\n",
       "  <tbody>\n",
       "    <tr>\n",
       "      <th>0</th>\n",
       "      <td>3668-QPYBK</td>\n",
       "      <td>1</td>\n",
       "      <td>United States</td>\n",
       "      <td>California</td>\n",
       "      <td>Los Angeles</td>\n",
       "      <td>90003</td>\n",
       "      <td>33.964131, -118.272783</td>\n",
       "      <td>33.964131</td>\n",
       "      <td>-118.272783</td>\n",
       "      <td>Male</td>\n",
       "      <td>...</td>\n",
       "      <td>No</td>\n",
       "      <td>No</td>\n",
       "      <td>Month-to-month</td>\n",
       "      <td>Yes</td>\n",
       "      <td>Mailed check</td>\n",
       "      <td>53.85</td>\n",
       "      <td>108.15</td>\n",
       "      <td>Yes</td>\n",
       "      <td>1</td>\n",
       "      <td>Competitor made better offer</td>\n",
       "    </tr>\n",
       "    <tr>\n",
       "      <th>1</th>\n",
       "      <td>9237-HQITU</td>\n",
       "      <td>1</td>\n",
       "      <td>United States</td>\n",
       "      <td>California</td>\n",
       "      <td>Los Angeles</td>\n",
       "      <td>90005</td>\n",
       "      <td>34.059281, -118.30742</td>\n",
       "      <td>34.059281</td>\n",
       "      <td>-118.307420</td>\n",
       "      <td>Female</td>\n",
       "      <td>...</td>\n",
       "      <td>No</td>\n",
       "      <td>No</td>\n",
       "      <td>Month-to-month</td>\n",
       "      <td>Yes</td>\n",
       "      <td>Electronic check</td>\n",
       "      <td>70.70</td>\n",
       "      <td>151.65</td>\n",
       "      <td>Yes</td>\n",
       "      <td>1</td>\n",
       "      <td>Moved</td>\n",
       "    </tr>\n",
       "    <tr>\n",
       "      <th>2</th>\n",
       "      <td>9305-CDSKC</td>\n",
       "      <td>1</td>\n",
       "      <td>United States</td>\n",
       "      <td>California</td>\n",
       "      <td>Los Angeles</td>\n",
       "      <td>90006</td>\n",
       "      <td>34.048013, -118.293953</td>\n",
       "      <td>34.048013</td>\n",
       "      <td>-118.293953</td>\n",
       "      <td>Female</td>\n",
       "      <td>...</td>\n",
       "      <td>Yes</td>\n",
       "      <td>Yes</td>\n",
       "      <td>Month-to-month</td>\n",
       "      <td>Yes</td>\n",
       "      <td>Electronic check</td>\n",
       "      <td>99.65</td>\n",
       "      <td>820.5</td>\n",
       "      <td>Yes</td>\n",
       "      <td>1</td>\n",
       "      <td>Moved</td>\n",
       "    </tr>\n",
       "    <tr>\n",
       "      <th>3</th>\n",
       "      <td>7892-POOKP</td>\n",
       "      <td>1</td>\n",
       "      <td>United States</td>\n",
       "      <td>California</td>\n",
       "      <td>Los Angeles</td>\n",
       "      <td>90010</td>\n",
       "      <td>34.062125, -118.315709</td>\n",
       "      <td>34.062125</td>\n",
       "      <td>-118.315709</td>\n",
       "      <td>Female</td>\n",
       "      <td>...</td>\n",
       "      <td>Yes</td>\n",
       "      <td>Yes</td>\n",
       "      <td>Month-to-month</td>\n",
       "      <td>Yes</td>\n",
       "      <td>Electronic check</td>\n",
       "      <td>104.80</td>\n",
       "      <td>3046.05</td>\n",
       "      <td>Yes</td>\n",
       "      <td>1</td>\n",
       "      <td>Moved</td>\n",
       "    </tr>\n",
       "    <tr>\n",
       "      <th>4</th>\n",
       "      <td>0280-XJGEX</td>\n",
       "      <td>1</td>\n",
       "      <td>United States</td>\n",
       "      <td>California</td>\n",
       "      <td>Los Angeles</td>\n",
       "      <td>90015</td>\n",
       "      <td>34.039224, -118.266293</td>\n",
       "      <td>34.039224</td>\n",
       "      <td>-118.266293</td>\n",
       "      <td>Male</td>\n",
       "      <td>...</td>\n",
       "      <td>Yes</td>\n",
       "      <td>Yes</td>\n",
       "      <td>Month-to-month</td>\n",
       "      <td>Yes</td>\n",
       "      <td>Bank transfer (automatic)</td>\n",
       "      <td>103.70</td>\n",
       "      <td>5036.3</td>\n",
       "      <td>Yes</td>\n",
       "      <td>1</td>\n",
       "      <td>Competitor had better devices</td>\n",
       "    </tr>\n",
       "  </tbody>\n",
       "</table>\n",
       "<p>5 rows × 31 columns</p>\n",
       "</div>"
      ],
      "text/plain": [
       "   CustomerID  Count        Country       State         City  Zip Code  \\\n",
       "0  3668-QPYBK      1  United States  California  Los Angeles     90003   \n",
       "1  9237-HQITU      1  United States  California  Los Angeles     90005   \n",
       "2  9305-CDSKC      1  United States  California  Los Angeles     90006   \n",
       "3  7892-POOKP      1  United States  California  Los Angeles     90010   \n",
       "4  0280-XJGEX      1  United States  California  Los Angeles     90015   \n",
       "\n",
       "                 Lat Long   Latitude   Longitude  Gender  ... Streaming TV  \\\n",
       "0  33.964131, -118.272783  33.964131 -118.272783    Male  ...           No   \n",
       "1   34.059281, -118.30742  34.059281 -118.307420  Female  ...           No   \n",
       "2  34.048013, -118.293953  34.048013 -118.293953  Female  ...          Yes   \n",
       "3  34.062125, -118.315709  34.062125 -118.315709  Female  ...          Yes   \n",
       "4  34.039224, -118.266293  34.039224 -118.266293    Male  ...          Yes   \n",
       "\n",
       "  Streaming Movies        Contract  Paperless Billing  \\\n",
       "0               No  Month-to-month                Yes   \n",
       "1               No  Month-to-month                Yes   \n",
       "2              Yes  Month-to-month                Yes   \n",
       "3              Yes  Month-to-month                Yes   \n",
       "4              Yes  Month-to-month                Yes   \n",
       "\n",
       "              Payment Method Monthly Charges Total Charges Churn Label  \\\n",
       "0               Mailed check           53.85        108.15         Yes   \n",
       "1           Electronic check           70.70        151.65         Yes   \n",
       "2           Electronic check           99.65         820.5         Yes   \n",
       "3           Electronic check          104.80       3046.05         Yes   \n",
       "4  Bank transfer (automatic)          103.70        5036.3         Yes   \n",
       "\n",
       "  Churn Value                   Churn Reason  \n",
       "0           1   Competitor made better offer  \n",
       "1           1                          Moved  \n",
       "2           1                          Moved  \n",
       "3           1                          Moved  \n",
       "4           1  Competitor had better devices  \n",
       "\n",
       "[5 rows x 31 columns]"
      ]
     },
     "execution_count": 136,
     "metadata": {},
     "output_type": "execute_result"
    }
   ],
   "source": [
    "df.head()"
   ]
  }
 ],
 "metadata": {
  "kernelspec": {
   "display_name": "Python 3 (ipykernel)",
   "language": "python",
   "name": "python3"
  },
  "language_info": {
   "codemirror_mode": {
    "name": "ipython",
    "version": 3
   },
   "file_extension": ".py",
   "mimetype": "text/x-python",
   "name": "python",
   "nbconvert_exporter": "python",
   "pygments_lexer": "ipython3",
   "version": "3.9.12"
  }
 },
 "nbformat": 4,
 "nbformat_minor": 5
}
